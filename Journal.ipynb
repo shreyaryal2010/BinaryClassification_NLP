{
  "nbformat": 4,
  "nbformat_minor": 0,
  "metadata": {
    "colab": {
      "name": "Journal.ipynb",
      "provenance": [],
      "collapsed_sections": []
    },
    "kernelspec": {
      "name": "python3",
      "display_name": "Python 3"
    },
    "language_info": {
      "name": "python"
    }
  },
  "cells": [
    {
      "cell_type": "code",
      "metadata": {
        "id": "Fy5IZPHM0TRc"
      },
      "source": [
        "import warnings\n",
        "warnings.filterwarnings('ignore')"
      ],
      "execution_count": null,
      "outputs": []
    },
    {
      "cell_type": "code",
      "metadata": {
        "id": "qaRQ1pIm0q92"
      },
      "source": [
        "import tensorflow as tf\n",
        "import tensorflow.keras as keras\n",
        "import pandas as pd\n",
        "import numpy as np\n",
        "import nltk\n",
        "from sklearn.metrics import classification_report"
      ],
      "execution_count": null,
      "outputs": []
    },
    {
      "cell_type": "code",
      "metadata": {
        "colab": {
          "resources": {
            "http://localhost:8080/nbextensions/google.colab/files.js": {
              "data": "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",
              "ok": true,
              "headers": [
                [
                  "content-type",
                  "application/javascript"
                ]
              ],
              "status": 200,
              "status_text": ""
            }
          },
          "base_uri": "https://localhost:8080/",
          "height": 72
        },
        "id": "W-ghjDJ10t4L",
        "outputId": "ed30f6ae-9cd8-4e88-c6e2-fe2e5c7185d4"
      },
      "source": [
        "#Upload input file from local to google colab\n",
        "from google.colab import files\n",
        "uploaded = files.upload()"
      ],
      "execution_count": null,
      "outputs": [
        {
          "output_type": "display_data",
          "data": {
            "text/html": [
              "\n",
              "     <input type=\"file\" id=\"files-326511b6-9e06-42cd-a5df-54b498469b30\" name=\"files[]\" multiple disabled\n",
              "        style=\"border:none\" />\n",
              "     <output id=\"result-326511b6-9e06-42cd-a5df-54b498469b30\">\n",
              "      Upload widget is only available when the cell has been executed in the\n",
              "      current browser session. Please rerun this cell to enable.\n",
              "      </output>\n",
              "      <script src=\"/nbextensions/google.colab/files.js\"></script> "
            ],
            "text/plain": [
              "<IPython.core.display.HTML object>"
            ]
          },
          "metadata": {}
        },
        {
          "output_type": "stream",
          "name": "stdout",
          "text": [
            "Saving is_journals.xlsx to is_journals.xlsx\n"
          ]
        }
      ]
    },
    {
      "cell_type": "code",
      "metadata": {
        "colab": {
          "base_uri": "https://localhost:8080/",
          "height": 289
        },
        "id": "XZWVfy1x0wso",
        "outputId": "c1b7dc11-b9da-43c6-9dc9-11bfe8c98a5d"
      },
      "source": [
        "#Read in the journal dataset\n",
        "journal = pd.read_excel(\"is_journals.xlsx\")\n",
        "journal.head()"
      ],
      "execution_count": null,
      "outputs": [
        {
          "output_type": "execute_result",
          "data": {
            "text/html": [
              "<div>\n",
              "<style scoped>\n",
              "    .dataframe tbody tr th:only-of-type {\n",
              "        vertical-align: middle;\n",
              "    }\n",
              "\n",
              "    .dataframe tbody tr th {\n",
              "        vertical-align: top;\n",
              "    }\n",
              "\n",
              "    .dataframe thead th {\n",
              "        text-align: right;\n",
              "    }\n",
              "</style>\n",
              "<table border=\"1\" class=\"dataframe\">\n",
              "  <thead>\n",
              "    <tr style=\"text-align: right;\">\n",
              "      <th></th>\n",
              "      <th>TI</th>\n",
              "      <th>AB</th>\n",
              "      <th>SO</th>\n",
              "      <th>PY</th>\n",
              "      <th>Class</th>\n",
              "      <th>Text</th>\n",
              "    </tr>\n",
              "  </thead>\n",
              "  <tbody>\n",
              "    <tr>\n",
              "      <th>0</th>\n",
              "      <td>The Role of Business Intelligence and Communic...</td>\n",
              "      <td>This study examines the role that business int...</td>\n",
              "      <td>JOURNAL OF THE ASSOCIATION FOR INFORMATION SYS...</td>\n",
              "      <td>2017</td>\n",
              "      <td>1</td>\n",
              "      <td>The Role of Business Intelligence and Communic...</td>\n",
              "    </tr>\n",
              "    <tr>\n",
              "      <th>1</th>\n",
              "      <td>OPERATIONAL IT FAILURES, IT VALUE DESTRUCTION,...</td>\n",
              "      <td>This paper presents an empirical study of chan...</td>\n",
              "      <td>MIS QUARTERLY</td>\n",
              "      <td>2017</td>\n",
              "      <td>1</td>\n",
              "      <td>OPERATIONAL IT FAILURES, IT VALUE DESTRUCTION,...</td>\n",
              "    </tr>\n",
              "    <tr>\n",
              "      <th>2</th>\n",
              "      <td>ON THE ROLE OF FAIRNESS AND SOCIAL DISTANCE IN...</td>\n",
              "      <td>Online referral systems help firms attract new...</td>\n",
              "      <td>MIS QUARTERLY</td>\n",
              "      <td>2017</td>\n",
              "      <td>1</td>\n",
              "      <td>ON THE ROLE OF FAIRNESS AND SOCIAL DISTANCE IN...</td>\n",
              "    </tr>\n",
              "    <tr>\n",
              "      <th>3</th>\n",
              "      <td>KNOWLEDGE MANAGEMENT SYSTEM USE AND JOB PERFOR...</td>\n",
              "      <td>This paper seeks to develop a better understan...</td>\n",
              "      <td>MIS QUARTERLY</td>\n",
              "      <td>2017</td>\n",
              "      <td>1</td>\n",
              "      <td>KNOWLEDGE MANAGEMENT SYSTEM USE AND JOB PERFOR...</td>\n",
              "    </tr>\n",
              "    <tr>\n",
              "      <th>4</th>\n",
              "      <td>REPEATED INTERACTIONS VERSUS SOCIAL TIES: QUAN...</td>\n",
              "      <td>The growing importance of online social networ...</td>\n",
              "      <td>MIS QUARTERLY</td>\n",
              "      <td>2017</td>\n",
              "      <td>1</td>\n",
              "      <td>REPEATED INTERACTIONS VERSUS SOCIAL TIES: QUAN...</td>\n",
              "    </tr>\n",
              "  </tbody>\n",
              "</table>\n",
              "</div>"
            ],
            "text/plain": [
              "                                                  TI  ...                                               Text\n",
              "0  The Role of Business Intelligence and Communic...  ...  The Role of Business Intelligence and Communic...\n",
              "1  OPERATIONAL IT FAILURES, IT VALUE DESTRUCTION,...  ...  OPERATIONAL IT FAILURES, IT VALUE DESTRUCTION,...\n",
              "2  ON THE ROLE OF FAIRNESS AND SOCIAL DISTANCE IN...  ...  ON THE ROLE OF FAIRNESS AND SOCIAL DISTANCE IN...\n",
              "3  KNOWLEDGE MANAGEMENT SYSTEM USE AND JOB PERFOR...  ...  KNOWLEDGE MANAGEMENT SYSTEM USE AND JOB PERFOR...\n",
              "4  REPEATED INTERACTIONS VERSUS SOCIAL TIES: QUAN...  ...  REPEATED INTERACTIONS VERSUS SOCIAL TIES: QUAN...\n",
              "\n",
              "[5 rows x 6 columns]"
            ]
          },
          "metadata": {},
          "execution_count": 48
        }
      ]
    },
    {
      "cell_type": "markdown",
      "metadata": {
        "id": "9Mty95N71QJG"
      },
      "source": [
        "We will keep the columns that are relevant. i.e. AB, which provides the exctract for the journal and Class, which is either 0 if it was published in an Eupopean journal and 1 if it was published in an American journal."
      ]
    },
    {
      "cell_type": "code",
      "metadata": {
        "colab": {
          "base_uri": "https://localhost:8080/",
          "height": 204
        },
        "id": "mNK2IoRA1prM",
        "outputId": "a49656f0-0721-44b7-daf4-49872246687a"
      },
      "source": [
        "#Drop all other columns except AB and Class\n",
        "journal.drop('TI',axis=1,inplace=True)\n",
        "journal.drop('SO',axis=1,inplace=True)\n",
        "journal.drop('PY',axis=1,inplace=True)\n",
        "journal.drop('Text',axis=1,inplace=True)\n",
        "journal.head()"
      ],
      "execution_count": null,
      "outputs": [
        {
          "output_type": "execute_result",
          "data": {
            "text/html": [
              "<div>\n",
              "<style scoped>\n",
              "    .dataframe tbody tr th:only-of-type {\n",
              "        vertical-align: middle;\n",
              "    }\n",
              "\n",
              "    .dataframe tbody tr th {\n",
              "        vertical-align: top;\n",
              "    }\n",
              "\n",
              "    .dataframe thead th {\n",
              "        text-align: right;\n",
              "    }\n",
              "</style>\n",
              "<table border=\"1\" class=\"dataframe\">\n",
              "  <thead>\n",
              "    <tr style=\"text-align: right;\">\n",
              "      <th></th>\n",
              "      <th>AB</th>\n",
              "      <th>Class</th>\n",
              "    </tr>\n",
              "  </thead>\n",
              "  <tbody>\n",
              "    <tr>\n",
              "      <th>0</th>\n",
              "      <td>This study examines the role that business int...</td>\n",
              "      <td>1</td>\n",
              "    </tr>\n",
              "    <tr>\n",
              "      <th>1</th>\n",
              "      <td>This paper presents an empirical study of chan...</td>\n",
              "      <td>1</td>\n",
              "    </tr>\n",
              "    <tr>\n",
              "      <th>2</th>\n",
              "      <td>Online referral systems help firms attract new...</td>\n",
              "      <td>1</td>\n",
              "    </tr>\n",
              "    <tr>\n",
              "      <th>3</th>\n",
              "      <td>This paper seeks to develop a better understan...</td>\n",
              "      <td>1</td>\n",
              "    </tr>\n",
              "    <tr>\n",
              "      <th>4</th>\n",
              "      <td>The growing importance of online social networ...</td>\n",
              "      <td>1</td>\n",
              "    </tr>\n",
              "  </tbody>\n",
              "</table>\n",
              "</div>"
            ],
            "text/plain": [
              "                                                  AB  Class\n",
              "0  This study examines the role that business int...      1\n",
              "1  This paper presents an empirical study of chan...      1\n",
              "2  Online referral systems help firms attract new...      1\n",
              "3  This paper seeks to develop a better understan...      1\n",
              "4  The growing importance of online social networ...      1"
            ]
          },
          "metadata": {},
          "execution_count": 5
        }
      ]
    },
    {
      "cell_type": "code",
      "metadata": {
        "colab": {
          "base_uri": "https://localhost:8080/"
        },
        "id": "sK4nv8hf2cMV",
        "outputId": "348137c2-b0a8-4556-b048-bbd6b0f6e3c6"
      },
      "source": [
        "journal.shape"
      ],
      "execution_count": null,
      "outputs": [
        {
          "output_type": "execute_result",
          "data": {
            "text/plain": [
              "(7706, 2)"
            ]
          },
          "metadata": {},
          "execution_count": 6
        }
      ]
    },
    {
      "cell_type": "code",
      "metadata": {
        "colab": {
          "base_uri": "https://localhost:8080/",
          "height": 154
        },
        "id": "mUNqDt8dF--V",
        "outputId": "b403bc1c-86b7-414e-dd2c-f587e494668e"
      },
      "source": [
        "#Check one of the abstract\n",
        "journal.iloc[1][0]"
      ],
      "execution_count": null,
      "outputs": [
        {
          "output_type": "execute_result",
          "data": {
            "application/vnd.google.colaboratory.intrinsic+json": {
              "type": "string"
            },
            "text/plain": [
              "'This paper presents an empirical study of changes that firms implement in their board-level IT governance (ITG) upon experiencing operational IT failures. Consistent with the separation of oversight from management decisions, board-level ITG is responsible for monitoring managerial IT decisions and policies for controlling IT resources. We expect that operational IT failures indicating inadequacies in board monitoring of controls over IT resources would result in a negative stock market reaction and, in turn, induce firms to improve their board-level ITG. Our expectation is confirmed based on a sample of 110 operational IT failures from U.S. public financial firms. Specifically, our results demonstrate that subsequent to experiencing operational IT failures, firms make improvements to the IT competency level of their boards, and the improvements are proportional to the degree of negative market reaction. However, those improvements are only on the executive side of the board, namely: an increase in the IT experience of internal (executive) directors and an increased turnover rate of CIOs serving on the board. Furthermore, the likelihood of CIO turnover is lower in IT-intensive firms where such turnover could be more disruptive. Our results contribute to understanding the critical connection between operational IT failures and board-level ITG.'"
            ]
          },
          "metadata": {},
          "execution_count": 7
        }
      ]
    },
    {
      "cell_type": "code",
      "metadata": {
        "colab": {
          "base_uri": "https://localhost:8080/",
          "height": 204
        },
        "id": "kkfOegJ9CTnZ",
        "outputId": "31efc3ad-12eb-4529-e821-622742b32add"
      },
      "source": [
        "# Convert text to lowercase\n",
        "journal['AB'] = journal['AB'].apply(lambda x: str(x).lower())\n",
        "journal.head()"
      ],
      "execution_count": null,
      "outputs": [
        {
          "output_type": "execute_result",
          "data": {
            "text/html": [
              "<div>\n",
              "<style scoped>\n",
              "    .dataframe tbody tr th:only-of-type {\n",
              "        vertical-align: middle;\n",
              "    }\n",
              "\n",
              "    .dataframe tbody tr th {\n",
              "        vertical-align: top;\n",
              "    }\n",
              "\n",
              "    .dataframe thead th {\n",
              "        text-align: right;\n",
              "    }\n",
              "</style>\n",
              "<table border=\"1\" class=\"dataframe\">\n",
              "  <thead>\n",
              "    <tr style=\"text-align: right;\">\n",
              "      <th></th>\n",
              "      <th>AB</th>\n",
              "      <th>Class</th>\n",
              "    </tr>\n",
              "  </thead>\n",
              "  <tbody>\n",
              "    <tr>\n",
              "      <th>0</th>\n",
              "      <td>this study examines the role that business int...</td>\n",
              "      <td>1</td>\n",
              "    </tr>\n",
              "    <tr>\n",
              "      <th>1</th>\n",
              "      <td>this paper presents an empirical study of chan...</td>\n",
              "      <td>1</td>\n",
              "    </tr>\n",
              "    <tr>\n",
              "      <th>2</th>\n",
              "      <td>online referral systems help firms attract new...</td>\n",
              "      <td>1</td>\n",
              "    </tr>\n",
              "    <tr>\n",
              "      <th>3</th>\n",
              "      <td>this paper seeks to develop a better understan...</td>\n",
              "      <td>1</td>\n",
              "    </tr>\n",
              "    <tr>\n",
              "      <th>4</th>\n",
              "      <td>the growing importance of online social networ...</td>\n",
              "      <td>1</td>\n",
              "    </tr>\n",
              "  </tbody>\n",
              "</table>\n",
              "</div>"
            ],
            "text/plain": [
              "                                                  AB  Class\n",
              "0  this study examines the role that business int...      1\n",
              "1  this paper presents an empirical study of chan...      1\n",
              "2  online referral systems help firms attract new...      1\n",
              "3  this paper seeks to develop a better understan...      1\n",
              "4  the growing importance of online social networ...      1"
            ]
          },
          "metadata": {},
          "execution_count": 8
        }
      ]
    },
    {
      "cell_type": "markdown",
      "metadata": {
        "id": "l6pnR3H5JA8X"
      },
      "source": [
        "Text Normalization"
      ]
    },
    {
      "cell_type": "code",
      "metadata": {
        "colab": {
          "base_uri": "https://localhost:8080/"
        },
        "id": "2t4bYiRoJC5d",
        "outputId": "1904fbaa-b70f-4c13-e585-4900065099a2"
      },
      "source": [
        "#Text Tokenization\n",
        "from nltk.tokenize.toktok import ToktokTokenizer\n",
        "tokenizer=ToktokTokenizer()\n",
        "#Setting English stopwords\n",
        "from nltk.corpus import stopwords\n",
        "nltk.download('stopwords')\n",
        "stopword_list=nltk.corpus.stopwords.words('english')"
      ],
      "execution_count": null,
      "outputs": [
        {
          "output_type": "stream",
          "name": "stdout",
          "text": [
            "[nltk_data] Downloading package stopwords to /root/nltk_data...\n",
            "[nltk_data]   Unzipping corpora/stopwords.zip.\n"
          ]
        }
      ]
    },
    {
      "cell_type": "markdown",
      "metadata": {
        "id": "qJWzr5wAEBDA"
      },
      "source": [
        "Expand Contractions"
      ]
    },
    {
      "cell_type": "code",
      "metadata": {
        "colab": {
          "base_uri": "https://localhost:8080/"
        },
        "id": "z1NL2qivDDCX",
        "outputId": "d01b5006-f970-4fff-dcb3-12047988b40f"
      },
      "source": [
        "!pip install contractions"
      ],
      "execution_count": null,
      "outputs": [
        {
          "output_type": "stream",
          "name": "stdout",
          "text": [
            "Collecting contractions\n",
            "  Downloading contractions-0.0.52-py2.py3-none-any.whl (7.2 kB)\n",
            "Collecting textsearch>=0.0.21\n",
            "  Downloading textsearch-0.0.21-py2.py3-none-any.whl (7.5 kB)\n",
            "Collecting pyahocorasick\n",
            "  Downloading pyahocorasick-1.4.2.tar.gz (321 kB)\n",
            "\u001b[K     |████████████████████████████████| 321 kB 4.8 MB/s \n",
            "\u001b[?25hCollecting anyascii\n",
            "  Downloading anyascii-0.3.0-py3-none-any.whl (284 kB)\n",
            "\u001b[K     |████████████████████████████████| 284 kB 42.2 MB/s \n",
            "\u001b[?25hBuilding wheels for collected packages: pyahocorasick\n",
            "  Building wheel for pyahocorasick (setup.py) ... \u001b[?25l\u001b[?25hdone\n",
            "  Created wheel for pyahocorasick: filename=pyahocorasick-1.4.2-cp37-cp37m-linux_x86_64.whl size=85451 sha256=d12a1801d259fe557dbaa65917267dd642ab131a7060554d583f71130f305592\n",
            "  Stored in directory: /root/.cache/pip/wheels/25/19/a6/8f363d9939162782bb8439d886469756271abc01f76fbd790f\n",
            "Successfully built pyahocorasick\n",
            "Installing collected packages: pyahocorasick, anyascii, textsearch, contractions\n",
            "Successfully installed anyascii-0.3.0 contractions-0.0.52 pyahocorasick-1.4.2 textsearch-0.0.21\n"
          ]
        }
      ]
    },
    {
      "cell_type": "code",
      "metadata": {
        "id": "6Z58WfkSDI7W"
      },
      "source": [
        "import contractions\n",
        "#contractions expansion\n",
        "journal['AB'] = journal['AB'].apply(lambda x: contractions.fix(x))"
      ],
      "execution_count": null,
      "outputs": []
    },
    {
      "cell_type": "markdown",
      "metadata": {
        "id": "n6SnuM4XD-BT"
      },
      "source": [
        "Remove Special Characters"
      ]
    },
    {
      "cell_type": "code",
      "metadata": {
        "id": "gqSk_7bxD8vQ"
      },
      "source": [
        "# Removing special characters in string\n",
        "# Using regex\n",
        "import re\n",
        "def RemoveSpecialCharacters(text):\n",
        "    \n",
        "    text = re.sub(r'[^\\w ]+', \"\", text)\n",
        "    text = ' '.join(text.split())\n",
        "    return text"
      ],
      "execution_count": null,
      "outputs": []
    },
    {
      "cell_type": "code",
      "metadata": {
        "id": "SE02t36wENFn"
      },
      "source": [
        "journal['AB'] = journal['AB'].apply(lambda x: RemoveSpecialCharacters(x))"
      ],
      "execution_count": null,
      "outputs": []
    },
    {
      "cell_type": "code",
      "metadata": {
        "colab": {
          "base_uri": "https://localhost:8080/",
          "height": 154
        },
        "id": "_S3mlmHXFs3q",
        "outputId": "2f1de246-b846-48db-ca52-46d8933c5313"
      },
      "source": [
        "#Check one of the abstract\n",
        "journal.iloc[1][0]"
      ],
      "execution_count": null,
      "outputs": [
        {
          "output_type": "execute_result",
          "data": {
            "application/vnd.google.colaboratory.intrinsic+json": {
              "type": "string"
            },
            "text/plain": [
              "'this paper presents an empirical study of changes that firms implement in their boardlevel it governance itg upon experiencing operational it failures consistent with the separation of oversight from management decisions boardlevel itg is responsible for monitoring managerial it decisions and policies for controlling it resources we expect that operational it failures indicating inadequacies in board monitoring of controls over it resources would result in a negative stock market reaction and in turn induce firms to improve their boardlevel itg our expectation is confirmed based on a sample of 110 operational it failures from yous public financial firms specifically our results demonstrate that subsequent to experiencing operational it failures firms make improvements to the it competency level of their boards and the improvements are proportional to the degree of negative market reaction however those improvements are only on the executive side of the board namely an increase in the it experience of internal executive directors and an increased turnover rate of cios serving on the board furthermore the likelihood of cio turnover is lower in itintensive firms where such turnover could be more disruptive our results contribute to understanding the critical connection between operational it failures and boardlevel itg'"
            ]
          },
          "metadata": {},
          "execution_count": 14
        }
      ]
    },
    {
      "cell_type": "markdown",
      "metadata": {
        "id": "kVjbJcf8HS0A"
      },
      "source": [
        "Remove stop words"
      ]
    },
    {
      "cell_type": "code",
      "metadata": {
        "id": "79pZg3OHHcGN"
      },
      "source": [
        "def RemoveStopWords(text):\n",
        "    return ' '.join([word for word in text.split() if word not in stopword_list])"
      ],
      "execution_count": null,
      "outputs": []
    },
    {
      "cell_type": "code",
      "metadata": {
        "colab": {
          "base_uri": "https://localhost:8080/",
          "height": 154
        },
        "id": "mripxx3qHUTg",
        "outputId": "bc91774d-3076-478d-be96-7836d791a0e5"
      },
      "source": [
        "\n",
        "journal['AB'] = journal['AB'].apply(lambda x: RemoveStopWords(x))\n",
        "journal.iloc[1][0]"
      ],
      "execution_count": null,
      "outputs": [
        {
          "output_type": "execute_result",
          "data": {
            "application/vnd.google.colaboratory.intrinsic+json": {
              "type": "string"
            },
            "text/plain": [
              "'paper presents empirical study changes firms implement boardlevel governance itg upon experiencing operational failures consistent separation oversight management decisions boardlevel itg responsible monitoring managerial decisions policies controlling resources expect operational failures indicating inadequacies board monitoring controls resources would result negative stock market reaction turn induce firms improve boardlevel itg expectation confirmed based sample 110 operational failures yous public financial firms specifically results demonstrate subsequent experiencing operational failures firms make improvements competency level boards improvements proportional degree negative market reaction however improvements executive side board namely increase experience internal executive directors increased turnover rate cios serving board furthermore likelihood cio turnover lower itintensive firms turnover could disruptive results contribute understanding critical connection operational failures boardlevel itg'"
            ]
          },
          "metadata": {},
          "execution_count": 16
        }
      ]
    },
    {
      "cell_type": "markdown",
      "metadata": {
        "id": "A42CGAGAHyl8"
      },
      "source": [
        "Remove Punctuations"
      ]
    },
    {
      "cell_type": "code",
      "metadata": {
        "id": "zkpUwfXpH1Hg"
      },
      "source": [
        "# Removing punctuations in string\n",
        "# Using regex\n",
        "def RemovePunctuations(text):\n",
        "    text = re.sub(r'[^\\w\\s]', '', text)\n",
        "    text = ' '.join(text.split())\n",
        "    return text\n",
        "\n"
      ],
      "execution_count": null,
      "outputs": []
    },
    {
      "cell_type": "code",
      "metadata": {
        "colab": {
          "base_uri": "https://localhost:8080/",
          "height": 154
        },
        "id": "c7hnKyylLAeI",
        "outputId": "cf1456f7-141e-45d7-bd8e-a5e544315dba"
      },
      "source": [
        "journal['AB'] = journal['AB'].apply(lambda x: RemovePunctuations(x))\n",
        "journal.iloc[1][0]"
      ],
      "execution_count": null,
      "outputs": [
        {
          "output_type": "execute_result",
          "data": {
            "application/vnd.google.colaboratory.intrinsic+json": {
              "type": "string"
            },
            "text/plain": [
              "'paper presents empirical study changes firms implement boardlevel governance itg upon experiencing operational failures consistent separation oversight management decisions boardlevel itg responsible monitoring managerial decisions policies controlling resources expect operational failures indicating inadequacies board monitoring controls resources would result negative stock market reaction turn induce firms improve boardlevel itg expectation confirmed based sample 110 operational failures yous public financial firms specifically results demonstrate subsequent experiencing operational failures firms make improvements competency level boards improvements proportional degree negative market reaction however improvements executive side board namely increase experience internal executive directors increased turnover rate cios serving board furthermore likelihood cio turnover lower itintensive firms turnover could disruptive results contribute understanding critical connection operational failures boardlevel itg'"
            ]
          },
          "metadata": {},
          "execution_count": 18
        }
      ]
    },
    {
      "cell_type": "markdown",
      "metadata": {
        "id": "yMZvJM8hLSts"
      },
      "source": [
        "Tokenize the abstract"
      ]
    },
    {
      "cell_type": "code",
      "metadata": {
        "colab": {
          "base_uri": "https://localhost:8080/"
        },
        "id": "MN0YPPceLTRL",
        "outputId": "4faa7084-cd63-496d-d46e-6fb39cdebe59"
      },
      "source": [
        "journal['AB'] = journal['AB'].apply(lambda x: tokenizer.tokenize(x))\n",
        "journal.iloc[1][0]"
      ],
      "execution_count": null,
      "outputs": [
        {
          "output_type": "execute_result",
          "data": {
            "text/plain": [
              "['paper',\n",
              " 'presents',\n",
              " 'empirical',\n",
              " 'study',\n",
              " 'changes',\n",
              " 'firms',\n",
              " 'implement',\n",
              " 'boardlevel',\n",
              " 'governance',\n",
              " 'itg',\n",
              " 'upon',\n",
              " 'experiencing',\n",
              " 'operational',\n",
              " 'failures',\n",
              " 'consistent',\n",
              " 'separation',\n",
              " 'oversight',\n",
              " 'management',\n",
              " 'decisions',\n",
              " 'boardlevel',\n",
              " 'itg',\n",
              " 'responsible',\n",
              " 'monitoring',\n",
              " 'managerial',\n",
              " 'decisions',\n",
              " 'policies',\n",
              " 'controlling',\n",
              " 'resources',\n",
              " 'expect',\n",
              " 'operational',\n",
              " 'failures',\n",
              " 'indicating',\n",
              " 'inadequacies',\n",
              " 'board',\n",
              " 'monitoring',\n",
              " 'controls',\n",
              " 'resources',\n",
              " 'would',\n",
              " 'result',\n",
              " 'negative',\n",
              " 'stock',\n",
              " 'market',\n",
              " 'reaction',\n",
              " 'turn',\n",
              " 'induce',\n",
              " 'firms',\n",
              " 'improve',\n",
              " 'boardlevel',\n",
              " 'itg',\n",
              " 'expectation',\n",
              " 'confirmed',\n",
              " 'based',\n",
              " 'sample',\n",
              " '110',\n",
              " 'operational',\n",
              " 'failures',\n",
              " 'yous',\n",
              " 'public',\n",
              " 'financial',\n",
              " 'firms',\n",
              " 'specifically',\n",
              " 'results',\n",
              " 'demonstrate',\n",
              " 'subsequent',\n",
              " 'experiencing',\n",
              " 'operational',\n",
              " 'failures',\n",
              " 'firms',\n",
              " 'make',\n",
              " 'improvements',\n",
              " 'competency',\n",
              " 'level',\n",
              " 'boards',\n",
              " 'improvements',\n",
              " 'proportional',\n",
              " 'degree',\n",
              " 'negative',\n",
              " 'market',\n",
              " 'reaction',\n",
              " 'however',\n",
              " 'improvements',\n",
              " 'executive',\n",
              " 'side',\n",
              " 'board',\n",
              " 'namely',\n",
              " 'increase',\n",
              " 'experience',\n",
              " 'internal',\n",
              " 'executive',\n",
              " 'directors',\n",
              " 'increased',\n",
              " 'turnover',\n",
              " 'rate',\n",
              " 'cios',\n",
              " 'serving',\n",
              " 'board',\n",
              " 'furthermore',\n",
              " 'likelihood',\n",
              " 'cio',\n",
              " 'turnover',\n",
              " 'lower',\n",
              " 'itintensive',\n",
              " 'firms',\n",
              " 'turnover',\n",
              " 'could',\n",
              " 'disruptive',\n",
              " 'results',\n",
              " 'contribute',\n",
              " 'understanding',\n",
              " 'critical',\n",
              " 'connection',\n",
              " 'operational',\n",
              " 'failures',\n",
              " 'boardlevel',\n",
              " 'itg']"
            ]
          },
          "metadata": {},
          "execution_count": 19
        }
      ]
    },
    {
      "cell_type": "markdown",
      "metadata": {
        "id": "MgQFgQmNNb01"
      },
      "source": [
        "Lemmatization"
      ]
    },
    {
      "cell_type": "code",
      "metadata": {
        "colab": {
          "base_uri": "https://localhost:8080/"
        },
        "id": "nQpYin7DNc8C",
        "outputId": "8af26522-a38c-47a5-d083-e954a95fad52"
      },
      "source": [
        "from nltk.stem import WordNetLemmatizer\n",
        "nltk.download('wordnet')\n",
        "lemmatizer = WordNetLemmatizer()\n",
        "\n",
        "def lemmatize_text(text):\n",
        "    return [lemmatizer.lemmatize(word) for word in text]\n"
      ],
      "execution_count": null,
      "outputs": [
        {
          "output_type": "stream",
          "name": "stdout",
          "text": [
            "[nltk_data] Downloading package wordnet to /root/nltk_data...\n",
            "[nltk_data]   Unzipping corpora/wordnet.zip.\n"
          ]
        }
      ]
    },
    {
      "cell_type": "code",
      "metadata": {
        "id": "MA2XghWDPcwF"
      },
      "source": [
        "journal['AB'] = journal['AB'].apply(lambda x: lemmatize_text(x))"
      ],
      "execution_count": null,
      "outputs": []
    },
    {
      "cell_type": "markdown",
      "metadata": {
        "id": "bUrw7CIBOl92"
      },
      "source": [
        "Stemming"
      ]
    },
    {
      "cell_type": "code",
      "metadata": {
        "id": "v4vYcrz-OnXU"
      },
      "source": [
        "\n",
        "from nltk.stem import PorterStemmer \n",
        "stemmer = PorterStemmer()\n",
        "\n",
        "def stem_text(text):\n",
        "    stemmed_text = [stemmer.stem(word) for word in text]\n",
        "    return \" \".join(stemmed_text) "
      ],
      "execution_count": null,
      "outputs": []
    },
    {
      "cell_type": "code",
      "metadata": {
        "colab": {
          "base_uri": "https://localhost:8080/",
          "height": 120
        },
        "id": "Kz-pxG2jRFyG",
        "outputId": "2c2e5c0f-449d-4841-a7d3-7bd752596eeb"
      },
      "source": [
        "journal['AB'] = journal['AB'].apply(lambda x: stem_text(x))\n",
        "journal.iloc[1][0]"
      ],
      "execution_count": null,
      "outputs": [
        {
          "output_type": "execute_result",
          "data": {
            "application/vnd.google.colaboratory.intrinsic+json": {
              "type": "string"
            },
            "text/plain": [
              "'paper present empir studi chang firm implement boardlevel govern itg upon experienc oper failur consist separ oversight manag decis boardlevel itg respons monitor manageri decis polici control resourc expect oper failur indic inadequaci board monitor control resourc would result neg stock market reaction turn induc firm improv boardlevel itg expect confirm base sampl 110 oper failur you public financi firm specif result demonstr subsequ experienc oper failur firm make improv compet level board improv proport degre neg market reaction howev improv execut side board name increas experi intern execut director increas turnov rate cio serv board furthermor likelihood cio turnov lower itintens firm turnov could disrupt result contribut understand critic connect oper failur boardlevel itg'"
            ]
          },
          "metadata": {},
          "execution_count": 23
        }
      ]
    },
    {
      "cell_type": "markdown",
      "metadata": {
        "id": "vpsYKcRsSqpe"
      },
      "source": [
        "Vectorize"
      ]
    },
    {
      "cell_type": "code",
      "metadata": {
        "id": "s0_stCRdRnza"
      },
      "source": [
        "X = journal['AB']\n",
        "y = journal['Class']"
      ],
      "execution_count": null,
      "outputs": []
    },
    {
      "cell_type": "code",
      "metadata": {
        "id": "7Z6GwSZlSsPS"
      },
      "source": [
        "from sklearn.feature_extraction.text import TfidfVectorizer\n",
        "tfidf = TfidfVectorizer(max_features=5000, ngram_range=(1,3))\n",
        "X = tfidf.fit_transform(X).toarray()"
      ],
      "execution_count": null,
      "outputs": []
    },
    {
      "cell_type": "markdown",
      "metadata": {
        "id": "WIoCeqEgVuB6"
      },
      "source": [
        "Split data for Train and Test"
      ]
    },
    {
      "cell_type": "code",
      "metadata": {
        "colab": {
          "base_uri": "https://localhost:8080/"
        },
        "id": "3vvuDzrYRznH",
        "outputId": "d27ecc90-0753-46ca-aec5-1a09cf38a5b8"
      },
      "source": [
        "#Split data into test and train\n",
        "from sklearn.model_selection import train_test_split\n",
        "X_train, X_test, y_train, y_test = train_test_split(X, y, test_size = 0.2, random_state = 4, stratify = y)\n",
        "print(X_train.shape, y_train.shape)\n",
        "print(X_test.shape, y_test.shape)"
      ],
      "execution_count": null,
      "outputs": [
        {
          "output_type": "stream",
          "name": "stdout",
          "text": [
            "(6164, 5000) (6164,)\n",
            "(1542, 5000) (1542,)\n"
          ]
        }
      ]
    },
    {
      "cell_type": "markdown",
      "metadata": {
        "id": "GE7Xb03_V_5O"
      },
      "source": [
        "#Logistic Regression"
      ]
    },
    {
      "cell_type": "code",
      "metadata": {
        "id": "G3tMa9CaWB7k"
      },
      "source": [
        "from sklearn.linear_model import LogisticRegression\n",
        "lr_model = LogisticRegression()\n",
        "lr_model.fit(X_train, y_train)\n",
        "lr_y_test_pred = lr_model.predict(X_test)\n"
      ],
      "execution_count": null,
      "outputs": []
    },
    {
      "cell_type": "markdown",
      "metadata": {
        "id": "SJevh_ozWrJD"
      },
      "source": [
        "Evaluate the model"
      ]
    },
    {
      "cell_type": "code",
      "metadata": {
        "colab": {
          "base_uri": "https://localhost:8080/"
        },
        "id": "FWWXWaCfWs4j",
        "outputId": "0b6e4ab8-7280-4238-c8ef-fca0b74743db"
      },
      "source": [
        "print(classification_report(y_test, lr_y_test_pred))"
      ],
      "execution_count": null,
      "outputs": [
        {
          "output_type": "stream",
          "name": "stdout",
          "text": [
            "              precision    recall  f1-score   support\n",
            "\n",
            "           0       0.90      0.88      0.89       971\n",
            "           1       0.80      0.83      0.82       571\n",
            "\n",
            "    accuracy                           0.86      1542\n",
            "   macro avg       0.85      0.86      0.85      1542\n",
            "weighted avg       0.86      0.86      0.86      1542\n",
            "\n"
          ]
        }
      ]
    },
    {
      "cell_type": "markdown",
      "metadata": {
        "id": "LkkouVBvXEh2"
      },
      "source": [
        "#Random Forest"
      ]
    },
    {
      "cell_type": "code",
      "metadata": {
        "id": "PXEnEzOlXRZT"
      },
      "source": [
        "\n",
        "from sklearn.ensemble import RandomForestClassifier\n",
        "rf_model = RandomForestClassifier(n_estimators=20,random_state=42)\n",
        "rf_model.fit(X_train, y_train)\n",
        "rf_y_test_pred = rf_model.predict(X_test)\n"
      ],
      "execution_count": null,
      "outputs": []
    },
    {
      "cell_type": "markdown",
      "metadata": {
        "id": "2g-VnPQcXx_X"
      },
      "source": [
        "Evaluate the model"
      ]
    },
    {
      "cell_type": "code",
      "metadata": {
        "colab": {
          "base_uri": "https://localhost:8080/"
        },
        "id": "LQ1qE6Y_Xzki",
        "outputId": "68c485f5-b51a-4c12-d24d-524e6fd97a80"
      },
      "source": [
        "print(classification_report(y_test, rf_y_test_pred))"
      ],
      "execution_count": null,
      "outputs": [
        {
          "output_type": "stream",
          "name": "stdout",
          "text": [
            "              precision    recall  f1-score   support\n",
            "\n",
            "           0       0.92      0.85      0.89       971\n",
            "           1       0.78      0.88      0.83       571\n",
            "\n",
            "    accuracy                           0.86      1542\n",
            "   macro avg       0.85      0.87      0.86      1542\n",
            "weighted avg       0.87      0.86      0.87      1542\n",
            "\n"
          ]
        }
      ]
    },
    {
      "cell_type": "markdown",
      "metadata": {
        "id": "3vppCo2eZARd"
      },
      "source": [
        "#XGBoost"
      ]
    },
    {
      "cell_type": "code",
      "metadata": {
        "id": "qaXfeqOIZCal"
      },
      "source": [
        "        import xgboost as xgb\n",
        "        xg_model = xgb.XGBClassifier(max_depth = 8, eta = 0.7, objective= 'binary:logistic', n_estimators = 200, \n",
        "                                  use_label_encoder=False, eval_metric = 'auc')\n",
        "        xg_model.fit(X_train, y_train)\n",
        "        xg_y_test_pred = xg_model.predict(X_test)\n",
        "        "
      ],
      "execution_count": null,
      "outputs": []
    },
    {
      "cell_type": "markdown",
      "metadata": {
        "id": "CDmi8Tk5ZeWV"
      },
      "source": [
        "Evaluate the model"
      ]
    },
    {
      "cell_type": "code",
      "metadata": {
        "colab": {
          "base_uri": "https://localhost:8080/"
        },
        "id": "YydUpmU8ZgkW",
        "outputId": "7d20e5a7-384d-4458-99db-dfdde9c160a7"
      },
      "source": [
        "print(classification_report(y_test, xg_y_test_pred))"
      ],
      "execution_count": null,
      "outputs": [
        {
          "output_type": "stream",
          "name": "stdout",
          "text": [
            "              precision    recall  f1-score   support\n",
            "\n",
            "           0       0.95      0.84      0.89       971\n",
            "           1       0.78      0.92      0.84       571\n",
            "\n",
            "    accuracy                           0.87      1542\n",
            "   macro avg       0.86      0.88      0.87      1542\n",
            "weighted avg       0.88      0.87      0.87      1542\n",
            "\n"
          ]
        }
      ]
    },
    {
      "cell_type": "markdown",
      "metadata": {
        "id": "yP8f1zjhTiQz"
      },
      "source": [
        "*Out of all the ML models we can see that the XGBoost provides the best performace i.e. highest accuracy as well as the F1 Score.*"
      ]
    },
    {
      "cell_type": "markdown",
      "metadata": {
        "id": "b2v_GJqlabR3"
      },
      "source": [
        "Deep Learning Model"
      ]
    },
    {
      "cell_type": "code",
      "metadata": {
        "id": "g-JDFGXQbHQA"
      },
      "source": [
        "#Setting up the packages to build our models\n",
        "from keras.models import Sequential\n",
        "from keras.layers import Dense"
      ],
      "execution_count": null,
      "outputs": []
    },
    {
      "cell_type": "code",
      "metadata": {
        "colab": {
          "base_uri": "https://localhost:8080/"
        },
        "id": "xHdqMZfTadWI",
        "outputId": "0391842b-c551-4f08-a930-f2c9ee14837c"
      },
      "source": [
        "  input_shape = X_train.shape[1]\n",
        "  single_layer_model= Sequential()\n",
        "  single_layer_model.add(Dense(64, activation=\"swish\",input_shape = [input_shape,]))\n",
        "  single_layer_model.add(Dense(1, activation=\"sigmoid\"))\n",
        "  opt = keras.optimizers.Adam(learning_rate=0.0001)\n",
        "  single_layer_model.compile(optimizer= opt, loss='binary_crossentropy', metrics = ['accuracy'])\n",
        "  history_singleLayer= single_layer_model.fit(X_train,y_train,validation_split=0.1, epochs=500, batch_size=32,\n",
        "                                            callbacks=[keras.callbacks.EarlyStopping(patience=10)],verbose=1)"
      ],
      "execution_count": null,
      "outputs": [
        {
          "output_type": "stream",
          "name": "stdout",
          "text": [
            "Epoch 1/500\n",
            "174/174 [==============================] - 2s 6ms/step - loss: 0.6748 - accuracy: 0.6333 - val_loss: 0.6619 - val_accuracy: 0.6143\n",
            "Epoch 2/500\n",
            "174/174 [==============================] - 1s 5ms/step - loss: 0.6425 - accuracy: 0.6313 - val_loss: 0.6370 - val_accuracy: 0.6143\n",
            "Epoch 3/500\n",
            "174/174 [==============================] - 1s 5ms/step - loss: 0.6158 - accuracy: 0.6313 - val_loss: 0.6157 - val_accuracy: 0.6143\n",
            "Epoch 4/500\n",
            "174/174 [==============================] - 1s 5ms/step - loss: 0.5907 - accuracy: 0.6313 - val_loss: 0.5933 - val_accuracy: 0.6143\n",
            "Epoch 5/500\n",
            "174/174 [==============================] - 1s 5ms/step - loss: 0.5644 - accuracy: 0.6375 - val_loss: 0.5691 - val_accuracy: 0.6337\n",
            "Epoch 6/500\n",
            "174/174 [==============================] - 1s 5ms/step - loss: 0.5363 - accuracy: 0.6773 - val_loss: 0.5427 - val_accuracy: 0.6823\n",
            "Epoch 7/500\n",
            "174/174 [==============================] - 1s 5ms/step - loss: 0.5070 - accuracy: 0.7447 - val_loss: 0.5160 - val_accuracy: 0.7310\n",
            "Epoch 8/500\n",
            "174/174 [==============================] - 1s 5ms/step - loss: 0.4777 - accuracy: 0.8084 - val_loss: 0.4902 - val_accuracy: 0.7634\n",
            "Epoch 9/500\n",
            "174/174 [==============================] - 1s 4ms/step - loss: 0.4493 - accuracy: 0.8428 - val_loss: 0.4655 - val_accuracy: 0.8120\n",
            "Epoch 10/500\n",
            "174/174 [==============================] - 1s 4ms/step - loss: 0.4224 - accuracy: 0.8715 - val_loss: 0.4429 - val_accuracy: 0.8314\n",
            "Epoch 11/500\n",
            "174/174 [==============================] - 1s 5ms/step - loss: 0.3975 - accuracy: 0.8798 - val_loss: 0.4226 - val_accuracy: 0.8525\n",
            "Epoch 12/500\n",
            "174/174 [==============================] - 1s 5ms/step - loss: 0.3744 - accuracy: 0.8926 - val_loss: 0.4042 - val_accuracy: 0.8622\n",
            "Epoch 13/500\n",
            "174/174 [==============================] - 1s 5ms/step - loss: 0.3534 - accuracy: 0.8972 - val_loss: 0.3877 - val_accuracy: 0.8622\n",
            "Epoch 14/500\n",
            "174/174 [==============================] - 1s 5ms/step - loss: 0.3339 - accuracy: 0.9041 - val_loss: 0.3732 - val_accuracy: 0.8687\n",
            "Epoch 15/500\n",
            "174/174 [==============================] - 1s 5ms/step - loss: 0.3161 - accuracy: 0.9086 - val_loss: 0.3601 - val_accuracy: 0.8671\n",
            "Epoch 16/500\n",
            "174/174 [==============================] - 1s 5ms/step - loss: 0.2998 - accuracy: 0.9145 - val_loss: 0.3487 - val_accuracy: 0.8639\n",
            "Epoch 17/500\n",
            "174/174 [==============================] - 1s 5ms/step - loss: 0.2847 - accuracy: 0.9183 - val_loss: 0.3385 - val_accuracy: 0.8622\n",
            "Epoch 18/500\n",
            "174/174 [==============================] - 1s 5ms/step - loss: 0.2708 - accuracy: 0.9241 - val_loss: 0.3297 - val_accuracy: 0.8622\n",
            "Epoch 19/500\n",
            "174/174 [==============================] - 1s 5ms/step - loss: 0.2579 - accuracy: 0.9261 - val_loss: 0.3216 - val_accuracy: 0.8655\n",
            "Epoch 20/500\n",
            "174/174 [==============================] - 1s 5ms/step - loss: 0.2460 - accuracy: 0.9311 - val_loss: 0.3145 - val_accuracy: 0.8655\n",
            "Epoch 21/500\n",
            "174/174 [==============================] - 1s 5ms/step - loss: 0.2348 - accuracy: 0.9356 - val_loss: 0.3089 - val_accuracy: 0.8671\n",
            "Epoch 22/500\n",
            "174/174 [==============================] - 1s 5ms/step - loss: 0.2245 - accuracy: 0.9391 - val_loss: 0.3029 - val_accuracy: 0.8671\n",
            "Epoch 23/500\n",
            "174/174 [==============================] - 1s 5ms/step - loss: 0.2148 - accuracy: 0.9409 - val_loss: 0.2977 - val_accuracy: 0.8703\n",
            "Epoch 24/500\n",
            "174/174 [==============================] - 1s 5ms/step - loss: 0.2057 - accuracy: 0.9438 - val_loss: 0.2936 - val_accuracy: 0.8720\n",
            "Epoch 25/500\n",
            "174/174 [==============================] - 1s 5ms/step - loss: 0.1971 - accuracy: 0.9468 - val_loss: 0.2901 - val_accuracy: 0.8720\n",
            "Epoch 26/500\n",
            "174/174 [==============================] - 1s 5ms/step - loss: 0.1890 - accuracy: 0.9508 - val_loss: 0.2865 - val_accuracy: 0.8703\n",
            "Epoch 27/500\n",
            "174/174 [==============================] - 1s 5ms/step - loss: 0.1814 - accuracy: 0.9535 - val_loss: 0.2834 - val_accuracy: 0.8752\n",
            "Epoch 28/500\n",
            "174/174 [==============================] - 1s 5ms/step - loss: 0.1741 - accuracy: 0.9549 - val_loss: 0.2811 - val_accuracy: 0.8752\n",
            "Epoch 29/500\n",
            "174/174 [==============================] - 1s 5ms/step - loss: 0.1672 - accuracy: 0.9567 - val_loss: 0.2787 - val_accuracy: 0.8752\n",
            "Epoch 30/500\n",
            "174/174 [==============================] - 1s 5ms/step - loss: 0.1608 - accuracy: 0.9587 - val_loss: 0.2769 - val_accuracy: 0.8752\n",
            "Epoch 31/500\n",
            "174/174 [==============================] - 1s 5ms/step - loss: 0.1545 - accuracy: 0.9594 - val_loss: 0.2753 - val_accuracy: 0.8736\n",
            "Epoch 32/500\n",
            "174/174 [==============================] - 1s 5ms/step - loss: 0.1486 - accuracy: 0.9621 - val_loss: 0.2738 - val_accuracy: 0.8703\n",
            "Epoch 33/500\n",
            "174/174 [==============================] - 1s 5ms/step - loss: 0.1430 - accuracy: 0.9656 - val_loss: 0.2731 - val_accuracy: 0.8703\n",
            "Epoch 34/500\n",
            "174/174 [==============================] - 1s 5ms/step - loss: 0.1376 - accuracy: 0.9679 - val_loss: 0.2724 - val_accuracy: 0.8687\n",
            "Epoch 35/500\n",
            "174/174 [==============================] - 1s 5ms/step - loss: 0.1325 - accuracy: 0.9695 - val_loss: 0.2718 - val_accuracy: 0.8687\n",
            "Epoch 36/500\n",
            "174/174 [==============================] - 1s 5ms/step - loss: 0.1275 - accuracy: 0.9726 - val_loss: 0.2709 - val_accuracy: 0.8687\n",
            "Epoch 37/500\n",
            "174/174 [==============================] - 1s 5ms/step - loss: 0.1227 - accuracy: 0.9735 - val_loss: 0.2707 - val_accuracy: 0.8687\n",
            "Epoch 38/500\n",
            "174/174 [==============================] - 1s 5ms/step - loss: 0.1181 - accuracy: 0.9757 - val_loss: 0.2708 - val_accuracy: 0.8703\n",
            "Epoch 39/500\n",
            "174/174 [==============================] - 1s 5ms/step - loss: 0.1138 - accuracy: 0.9771 - val_loss: 0.2710 - val_accuracy: 0.8687\n",
            "Epoch 40/500\n",
            "174/174 [==============================] - 1s 5ms/step - loss: 0.1096 - accuracy: 0.9791 - val_loss: 0.2714 - val_accuracy: 0.8687\n",
            "Epoch 41/500\n",
            "174/174 [==============================] - 1s 5ms/step - loss: 0.1054 - accuracy: 0.9798 - val_loss: 0.2716 - val_accuracy: 0.8687\n",
            "Epoch 42/500\n",
            "174/174 [==============================] - 1s 5ms/step - loss: 0.1016 - accuracy: 0.9809 - val_loss: 0.2727 - val_accuracy: 0.8655\n",
            "Epoch 43/500\n",
            "174/174 [==============================] - 1s 5ms/step - loss: 0.0979 - accuracy: 0.9818 - val_loss: 0.2732 - val_accuracy: 0.8639\n",
            "Epoch 44/500\n",
            "174/174 [==============================] - 1s 5ms/step - loss: 0.0942 - accuracy: 0.9820 - val_loss: 0.2745 - val_accuracy: 0.8622\n",
            "Epoch 45/500\n",
            "174/174 [==============================] - 1s 5ms/step - loss: 0.0907 - accuracy: 0.9832 - val_loss: 0.2755 - val_accuracy: 0.8606\n",
            "Epoch 46/500\n",
            "174/174 [==============================] - 1s 5ms/step - loss: 0.0874 - accuracy: 0.9843 - val_loss: 0.2764 - val_accuracy: 0.8606\n",
            "Epoch 47/500\n",
            "174/174 [==============================] - 1s 5ms/step - loss: 0.0842 - accuracy: 0.9852 - val_loss: 0.2778 - val_accuracy: 0.8639\n"
          ]
        }
      ]
    },
    {
      "cell_type": "markdown",
      "metadata": {
        "id": "OWR8oR9xcpMC"
      },
      "source": [
        "Evaluate the model"
      ]
    },
    {
      "cell_type": "code",
      "metadata": {
        "colab": {
          "base_uri": "https://localhost:8080/"
        },
        "id": "8i0dbREmcrK2",
        "outputId": "de7dd382-5f01-4d8b-cc5d-88d4fe69f72d"
      },
      "source": [
        "best_score = max(history_singleLayer.history['val_accuracy'])\n",
        "\n",
        "print(best_score)"
      ],
      "execution_count": null,
      "outputs": [
        {
          "output_type": "stream",
          "name": "stdout",
          "text": [
            "0.8752025961875916\n"
          ]
        }
      ]
    },
    {
      "cell_type": "code",
      "metadata": {
        "colab": {
          "base_uri": "https://localhost:8080/",
          "height": 573
        },
        "id": "sTaeBw1Lc1RL",
        "outputId": "ae7f78cc-b98a-4300-c22e-07ca29154b40"
      },
      "source": [
        "#Plot the learning curve\n",
        "import matplotlib.pyplot as plt\n",
        "# summarize history for accuracy\n",
        "plt.plot(history_singleLayer.history['accuracy'])\n",
        "plt.plot(history_singleLayer.history['val_accuracy'])\n",
        "plt.title('Single Layer model Accuracy')\n",
        "plt.ylabel('Accuracy')\n",
        "plt.xlabel('epoch')\n",
        "plt.legend(['train', 'test'], loc='upper left')\n",
        "plt.show()\n",
        "# summarize history for loss\n",
        "plt.plot(history_singleLayer.history['loss'])\n",
        "plt.plot(history_singleLayer.history['val_loss'])\n",
        "plt.title('Single Layer model loss')\n",
        "plt.ylabel('loss')\n",
        "plt.xlabel('epoch')\n",
        "plt.legend(['train', 'test'], loc='upper left')\n",
        "plt.show()"
      ],
      "execution_count": null,
      "outputs": [
        {
          "output_type": "display_data",
          "data": {
            "image/png": "[encoded data removed]",
            "text/plain": [
              "<Figure size 432x288 with 1 Axes>"
            ]
          },
          "metadata": {
            "needs_background": "light"
          }
        },
        {
          "output_type": "display_data",
          "data": {
            "image/png": "[encoded data removed]",
            "text/plain": [
              "<Figure size 432x288 with 1 Axes>"
            ]
          },
          "metadata": {
            "needs_background": "light"
          }
        }
      ]
    },
    {
      "cell_type": "markdown",
      "metadata": {
        "id": "RTCy5h16X0d-"
      },
      "source": [
        "*Using a single hidden layer Deep Learning network we are already getting 0.87 accuracy which is similar to the results we got using XGBoost. However we can look at the graph above and see that our model is overfitting. We are going to use dropout to counter overfitting and evaluate our model again.*"
      ]
    },
    {
      "cell_type": "code",
      "metadata": {
        "colab": {
          "base_uri": "https://localhost:8080/"
        },
        "id": "ZpVY_m4PYOs5",
        "outputId": "4a8b4783-125d-4501-fb69-417de2cff91d"
      },
      "source": [
        "  from keras.layers import Dropout\n",
        "  input_shape = X_train.shape[1]\n",
        "  single_layer_model_withDropout= Sequential()\n",
        "  single_layer_model_withDropout.add(Dense(64, activation=\"swish\",input_shape = [input_shape,]))\n",
        "  single_layer_model_withDropout.add(Dropout(0.5))\n",
        "  single_layer_model_withDropout.add(Dense(1, activation=\"sigmoid\"))\n",
        "  opt = keras.optimizers.Adam(learning_rate=0.0001)\n",
        "  single_layer_model_withDropout.compile(optimizer= opt, loss='binary_crossentropy', metrics = ['accuracy'])\n",
        "  history_singleLayer_withDropout= single_layer_model_withDropout.fit(X_train,y_train,validation_split=0.1, epochs=500, batch_size=32,\n",
        "                                            callbacks=[keras.callbacks.EarlyStopping(patience=10)],verbose=1)"
      ],
      "execution_count": null,
      "outputs": [
        {
          "output_type": "stream",
          "name": "stdout",
          "text": [
            "Epoch 1/500\n",
            "174/174 [==============================] - 1s 6ms/step - loss: 0.6929 - accuracy: 0.5028 - val_loss: 0.6910 - val_accuracy: 0.5997\n",
            "Epoch 2/500\n",
            "174/174 [==============================] - 1s 5ms/step - loss: 0.6890 - accuracy: 0.6144 - val_loss: 0.6877 - val_accuracy: 0.6224\n",
            "Epoch 3/500\n",
            "174/174 [==============================] - 1s 6ms/step - loss: 0.6850 - accuracy: 0.6342 - val_loss: 0.6845 - val_accuracy: 0.6143\n",
            "Epoch 4/500\n",
            "174/174 [==============================] - 1s 6ms/step - loss: 0.6817 - accuracy: 0.6330 - val_loss: 0.6814 - val_accuracy: 0.6143\n",
            "Epoch 5/500\n",
            "174/174 [==============================] - 1s 5ms/step - loss: 0.6783 - accuracy: 0.6322 - val_loss: 0.6785 - val_accuracy: 0.6143\n",
            "Epoch 6/500\n",
            "174/174 [==============================] - 1s 6ms/step - loss: 0.6749 - accuracy: 0.6313 - val_loss: 0.6755 - val_accuracy: 0.6143\n",
            "Epoch 7/500\n",
            "174/174 [==============================] - 1s 6ms/step - loss: 0.6714 - accuracy: 0.6313 - val_loss: 0.6727 - val_accuracy: 0.6143\n",
            "Epoch 8/500\n",
            "174/174 [==============================] - 1s 6ms/step - loss: 0.6684 - accuracy: 0.6313 - val_loss: 0.6699 - val_accuracy: 0.6143\n",
            "Epoch 9/500\n",
            "174/174 [==============================] - 1s 6ms/step - loss: 0.6653 - accuracy: 0.6313 - val_loss: 0.6672 - val_accuracy: 0.6143\n",
            "Epoch 10/500\n",
            "174/174 [==============================] - 1s 6ms/step - loss: 0.6622 - accuracy: 0.6313 - val_loss: 0.6646 - val_accuracy: 0.6143\n",
            "Epoch 11/500\n",
            "174/174 [==============================] - 1s 6ms/step - loss: 0.6594 - accuracy: 0.6313 - val_loss: 0.6621 - val_accuracy: 0.6143\n",
            "Epoch 12/500\n",
            "174/174 [==============================] - 1s 6ms/step - loss: 0.6563 - accuracy: 0.6313 - val_loss: 0.6596 - val_accuracy: 0.6143\n",
            "Epoch 13/500\n",
            "174/174 [==============================] - 1s 6ms/step - loss: 0.6532 - accuracy: 0.6313 - val_loss: 0.6572 - val_accuracy: 0.6143\n",
            "Epoch 14/500\n",
            "174/174 [==============================] - 1s 7ms/step - loss: 0.6506 - accuracy: 0.6313 - val_loss: 0.6549 - val_accuracy: 0.6143\n",
            "Epoch 15/500\n",
            "174/174 [==============================] - 1s 7ms/step - loss: 0.6479 - accuracy: 0.6313 - val_loss: 0.6526 - val_accuracy: 0.6143\n",
            "Epoch 16/500\n",
            "174/174 [==============================] - 1s 7ms/step - loss: 0.6448 - accuracy: 0.6313 - val_loss: 0.6503 - val_accuracy: 0.6143\n",
            "Epoch 17/500\n",
            "174/174 [==============================] - 1s 7ms/step - loss: 0.6424 - accuracy: 0.6313 - val_loss: 0.6482 - val_accuracy: 0.6143\n",
            "Epoch 18/500\n",
            "174/174 [==============================] - 1s 6ms/step - loss: 0.6405 - accuracy: 0.6313 - val_loss: 0.6461 - val_accuracy: 0.6143\n",
            "Epoch 19/500\n",
            "174/174 [==============================] - 1s 5ms/step - loss: 0.6376 - accuracy: 0.6313 - val_loss: 0.6440 - val_accuracy: 0.6143\n",
            "Epoch 20/500\n",
            "174/174 [==============================] - 1s 6ms/step - loss: 0.6357 - accuracy: 0.6313 - val_loss: 0.6420 - val_accuracy: 0.6143\n",
            "Epoch 21/500\n",
            "174/174 [==============================] - 1s 6ms/step - loss: 0.6333 - accuracy: 0.6313 - val_loss: 0.6400 - val_accuracy: 0.6143\n",
            "Epoch 22/500\n",
            "174/174 [==============================] - 1s 6ms/step - loss: 0.6310 - accuracy: 0.6313 - val_loss: 0.6381 - val_accuracy: 0.6143\n",
            "Epoch 23/500\n",
            "174/174 [==============================] - 1s 7ms/step - loss: 0.6288 - accuracy: 0.6313 - val_loss: 0.6362 - val_accuracy: 0.6143\n",
            "Epoch 24/500\n",
            "174/174 [==============================] - 1s 6ms/step - loss: 0.6266 - accuracy: 0.6313 - val_loss: 0.6343 - val_accuracy: 0.6143\n",
            "Epoch 25/500\n",
            "174/174 [==============================] - 1s 6ms/step - loss: 0.6240 - accuracy: 0.6313 - val_loss: 0.6324 - val_accuracy: 0.6143\n",
            "Epoch 26/500\n",
            "174/174 [==============================] - 1s 7ms/step - loss: 0.6220 - accuracy: 0.6313 - val_loss: 0.6306 - val_accuracy: 0.6143\n",
            "Epoch 27/500\n",
            "174/174 [==============================] - 1s 7ms/step - loss: 0.6203 - accuracy: 0.6313 - val_loss: 0.6288 - val_accuracy: 0.6143\n",
            "Epoch 28/500\n",
            "174/174 [==============================] - 1s 7ms/step - loss: 0.6178 - accuracy: 0.6313 - val_loss: 0.6270 - val_accuracy: 0.6143\n",
            "Epoch 29/500\n",
            "174/174 [==============================] - 1s 6ms/step - loss: 0.6156 - accuracy: 0.6313 - val_loss: 0.6252 - val_accuracy: 0.6143\n",
            "Epoch 30/500\n",
            "174/174 [==============================] - 1s 6ms/step - loss: 0.6137 - accuracy: 0.6313 - val_loss: 0.6234 - val_accuracy: 0.6143\n",
            "Epoch 31/500\n",
            "174/174 [==============================] - 1s 6ms/step - loss: 0.6117 - accuracy: 0.6313 - val_loss: 0.6216 - val_accuracy: 0.6143\n",
            "Epoch 32/500\n",
            "174/174 [==============================] - 1s 6ms/step - loss: 0.6087 - accuracy: 0.6313 - val_loss: 0.6198 - val_accuracy: 0.6143\n",
            "Epoch 33/500\n",
            "174/174 [==============================] - 1s 6ms/step - loss: 0.6076 - accuracy: 0.6313 - val_loss: 0.6181 - val_accuracy: 0.6143\n",
            "Epoch 34/500\n",
            "174/174 [==============================] - 1s 6ms/step - loss: 0.6055 - accuracy: 0.6313 - val_loss: 0.6163 - val_accuracy: 0.6143\n",
            "Epoch 35/500\n",
            "174/174 [==============================] - 1s 6ms/step - loss: 0.6030 - accuracy: 0.6313 - val_loss: 0.6145 - val_accuracy: 0.6143\n",
            "Epoch 36/500\n",
            "174/174 [==============================] - 1s 6ms/step - loss: 0.6018 - accuracy: 0.6313 - val_loss: 0.6128 - val_accuracy: 0.6143\n",
            "Epoch 37/500\n",
            "174/174 [==============================] - 1s 7ms/step - loss: 0.5994 - accuracy: 0.6313 - val_loss: 0.6110 - val_accuracy: 0.6143\n",
            "Epoch 38/500\n",
            "174/174 [==============================] - 1s 6ms/step - loss: 0.5972 - accuracy: 0.6313 - val_loss: 0.6092 - val_accuracy: 0.6143\n",
            "Epoch 39/500\n",
            "174/174 [==============================] - 1s 7ms/step - loss: 0.5953 - accuracy: 0.6313 - val_loss: 0.6074 - val_accuracy: 0.6143\n",
            "Epoch 40/500\n",
            "174/174 [==============================] - 1s 6ms/step - loss: 0.5935 - accuracy: 0.6313 - val_loss: 0.6056 - val_accuracy: 0.6143\n",
            "Epoch 41/500\n",
            "174/174 [==============================] - 1s 6ms/step - loss: 0.5913 - accuracy: 0.6313 - val_loss: 0.6038 - val_accuracy: 0.6143\n",
            "Epoch 42/500\n",
            "174/174 [==============================] - 1s 6ms/step - loss: 0.5895 - accuracy: 0.6313 - val_loss: 0.6020 - val_accuracy: 0.6143\n",
            "Epoch 43/500\n",
            "174/174 [==============================] - 1s 6ms/step - loss: 0.5871 - accuracy: 0.6313 - val_loss: 0.6002 - val_accuracy: 0.6143\n",
            "Epoch 44/500\n",
            "174/174 [==============================] - 1s 6ms/step - loss: 0.5857 - accuracy: 0.6313 - val_loss: 0.5983 - val_accuracy: 0.6143\n",
            "Epoch 45/500\n",
            "174/174 [==============================] - 1s 6ms/step - loss: 0.5836 - accuracy: 0.6313 - val_loss: 0.5965 - val_accuracy: 0.6143\n",
            "Epoch 46/500\n",
            "174/174 [==============================] - 1s 6ms/step - loss: 0.5812 - accuracy: 0.6317 - val_loss: 0.5946 - val_accuracy: 0.6143\n",
            "Epoch 47/500\n",
            "174/174 [==============================] - 1s 6ms/step - loss: 0.5798 - accuracy: 0.6315 - val_loss: 0.5928 - val_accuracy: 0.6143\n",
            "Epoch 48/500\n",
            "174/174 [==============================] - 1s 6ms/step - loss: 0.5778 - accuracy: 0.6319 - val_loss: 0.5909 - val_accuracy: 0.6143\n",
            "Epoch 49/500\n",
            "174/174 [==============================] - 1s 6ms/step - loss: 0.5750 - accuracy: 0.6326 - val_loss: 0.5890 - val_accuracy: 0.6143\n",
            "Epoch 50/500\n",
            "174/174 [==============================] - 1s 6ms/step - loss: 0.5734 - accuracy: 0.6322 - val_loss: 0.5871 - val_accuracy: 0.6143\n",
            "Epoch 51/500\n",
            "174/174 [==============================] - 1s 7ms/step - loss: 0.5708 - accuracy: 0.6328 - val_loss: 0.5852 - val_accuracy: 0.6159\n",
            "Epoch 52/500\n",
            "174/174 [==============================] - 1s 6ms/step - loss: 0.5684 - accuracy: 0.6335 - val_loss: 0.5833 - val_accuracy: 0.6159\n",
            "Epoch 53/500\n",
            "174/174 [==============================] - 1s 6ms/step - loss: 0.5666 - accuracy: 0.6346 - val_loss: 0.5813 - val_accuracy: 0.6175\n",
            "Epoch 54/500\n",
            "174/174 [==============================] - 1s 6ms/step - loss: 0.5643 - accuracy: 0.6351 - val_loss: 0.5794 - val_accuracy: 0.6175\n",
            "Epoch 55/500\n",
            "174/174 [==============================] - 1s 6ms/step - loss: 0.5618 - accuracy: 0.6357 - val_loss: 0.5775 - val_accuracy: 0.6175\n",
            "Epoch 56/500\n",
            "174/174 [==============================] - 1s 6ms/step - loss: 0.5600 - accuracy: 0.6375 - val_loss: 0.5755 - val_accuracy: 0.6207\n",
            "Epoch 57/500\n",
            "174/174 [==============================] - 1s 6ms/step - loss: 0.5582 - accuracy: 0.6403 - val_loss: 0.5735 - val_accuracy: 0.6207\n",
            "Epoch 58/500\n",
            "174/174 [==============================] - 1s 6ms/step - loss: 0.5557 - accuracy: 0.6411 - val_loss: 0.5715 - val_accuracy: 0.6240\n",
            "Epoch 59/500\n",
            "174/174 [==============================] - 1s 6ms/step - loss: 0.5548 - accuracy: 0.6429 - val_loss: 0.5695 - val_accuracy: 0.6272\n",
            "Epoch 60/500\n",
            "174/174 [==============================] - 1s 6ms/step - loss: 0.5517 - accuracy: 0.6468 - val_loss: 0.5675 - val_accuracy: 0.6305\n",
            "Epoch 61/500\n",
            "174/174 [==============================] - 1s 7ms/step - loss: 0.5489 - accuracy: 0.6481 - val_loss: 0.5655 - val_accuracy: 0.6305\n",
            "Epoch 62/500\n",
            "174/174 [==============================] - 1s 6ms/step - loss: 0.5475 - accuracy: 0.6508 - val_loss: 0.5635 - val_accuracy: 0.6321\n",
            "Epoch 63/500\n",
            "174/174 [==============================] - 1s 7ms/step - loss: 0.5449 - accuracy: 0.6537 - val_loss: 0.5615 - val_accuracy: 0.6353\n",
            "Epoch 64/500\n",
            "174/174 [==============================] - 1s 6ms/step - loss: 0.5430 - accuracy: 0.6578 - val_loss: 0.5595 - val_accuracy: 0.6418\n",
            "Epoch 65/500\n",
            "174/174 [==============================] - 1s 7ms/step - loss: 0.5403 - accuracy: 0.6618 - val_loss: 0.5575 - val_accuracy: 0.6451\n",
            "Epoch 66/500\n",
            "174/174 [==============================] - 1s 7ms/step - loss: 0.5388 - accuracy: 0.6652 - val_loss: 0.5554 - val_accuracy: 0.6467\n",
            "Epoch 67/500\n",
            "174/174 [==============================] - 1s 7ms/step - loss: 0.5363 - accuracy: 0.6706 - val_loss: 0.5534 - val_accuracy: 0.6467\n",
            "Epoch 68/500\n",
            "174/174 [==============================] - 1s 6ms/step - loss: 0.5345 - accuracy: 0.6769 - val_loss: 0.5513 - val_accuracy: 0.6483\n",
            "Epoch 69/500\n",
            "174/174 [==============================] - 1s 6ms/step - loss: 0.5314 - accuracy: 0.6780 - val_loss: 0.5492 - val_accuracy: 0.6532\n",
            "Epoch 70/500\n",
            "174/174 [==============================] - 1s 6ms/step - loss: 0.5295 - accuracy: 0.6831 - val_loss: 0.5472 - val_accuracy: 0.6645\n",
            "Epoch 71/500\n",
            "174/174 [==============================] - 1s 7ms/step - loss: 0.5277 - accuracy: 0.6896 - val_loss: 0.5451 - val_accuracy: 0.6742\n",
            "Epoch 72/500\n",
            "174/174 [==============================] - 1s 7ms/step - loss: 0.5248 - accuracy: 0.6939 - val_loss: 0.5430 - val_accuracy: 0.6742\n",
            "Epoch 73/500\n",
            "174/174 [==============================] - 1s 6ms/step - loss: 0.5224 - accuracy: 0.6977 - val_loss: 0.5410 - val_accuracy: 0.6791\n",
            "Epoch 74/500\n",
            "174/174 [==============================] - 1s 6ms/step - loss: 0.5200 - accuracy: 0.7045 - val_loss: 0.5389 - val_accuracy: 0.6807\n",
            "Epoch 75/500\n",
            "174/174 [==============================] - 1s 6ms/step - loss: 0.5183 - accuracy: 0.7108 - val_loss: 0.5368 - val_accuracy: 0.6856\n",
            "Epoch 76/500\n",
            "174/174 [==============================] - 1s 6ms/step - loss: 0.5160 - accuracy: 0.7157 - val_loss: 0.5347 - val_accuracy: 0.6888\n",
            "Epoch 77/500\n",
            "174/174 [==============================] - 1s 6ms/step - loss: 0.5142 - accuracy: 0.7245 - val_loss: 0.5326 - val_accuracy: 0.6985\n",
            "Epoch 78/500\n",
            "174/174 [==============================] - 1s 7ms/step - loss: 0.5113 - accuracy: 0.7269 - val_loss: 0.5306 - val_accuracy: 0.7018\n",
            "Epoch 79/500\n",
            "174/174 [==============================] - 1s 6ms/step - loss: 0.5100 - accuracy: 0.7319 - val_loss: 0.5285 - val_accuracy: 0.7050\n",
            "Epoch 80/500\n",
            "174/174 [==============================] - 1s 6ms/step - loss: 0.5075 - accuracy: 0.7372 - val_loss: 0.5264 - val_accuracy: 0.7066\n",
            "Epoch 81/500\n",
            "174/174 [==============================] - 1s 6ms/step - loss: 0.5049 - accuracy: 0.7424 - val_loss: 0.5244 - val_accuracy: 0.7147\n",
            "Epoch 82/500\n",
            "174/174 [==============================] - 1s 6ms/step - loss: 0.5024 - accuracy: 0.7473 - val_loss: 0.5223 - val_accuracy: 0.7180\n",
            "Epoch 83/500\n",
            "174/174 [==============================] - 1s 6ms/step - loss: 0.5006 - accuracy: 0.7525 - val_loss: 0.5202 - val_accuracy: 0.7164\n",
            "Epoch 84/500\n",
            "174/174 [==============================] - 1s 6ms/step - loss: 0.4980 - accuracy: 0.7610 - val_loss: 0.5181 - val_accuracy: 0.7245\n",
            "Epoch 85/500\n",
            "174/174 [==============================] - 1s 6ms/step - loss: 0.4965 - accuracy: 0.7662 - val_loss: 0.5161 - val_accuracy: 0.7277\n",
            "Epoch 86/500\n",
            "174/174 [==============================] - 1s 6ms/step - loss: 0.4940 - accuracy: 0.7709 - val_loss: 0.5140 - val_accuracy: 0.7358\n",
            "Epoch 87/500\n",
            "174/174 [==============================] - 1s 6ms/step - loss: 0.4907 - accuracy: 0.7779 - val_loss: 0.5119 - val_accuracy: 0.7342\n",
            "Epoch 88/500\n",
            "174/174 [==============================] - 1s 6ms/step - loss: 0.4895 - accuracy: 0.7792 - val_loss: 0.5099 - val_accuracy: 0.7310\n",
            "Epoch 89/500\n",
            "174/174 [==============================] - 1s 6ms/step - loss: 0.4863 - accuracy: 0.7847 - val_loss: 0.5078 - val_accuracy: 0.7326\n",
            "Epoch 90/500\n",
            "174/174 [==============================] - 1s 6ms/step - loss: 0.4844 - accuracy: 0.7903 - val_loss: 0.5058 - val_accuracy: 0.7326\n",
            "Epoch 91/500\n",
            "174/174 [==============================] - 1s 6ms/step - loss: 0.4820 - accuracy: 0.7954 - val_loss: 0.5037 - val_accuracy: 0.7374\n",
            "Epoch 92/500\n",
            "174/174 [==============================] - 1s 6ms/step - loss: 0.4798 - accuracy: 0.8022 - val_loss: 0.5017 - val_accuracy: 0.7374\n",
            "Epoch 93/500\n",
            "174/174 [==============================] - 1s 6ms/step - loss: 0.4781 - accuracy: 0.8067 - val_loss: 0.4996 - val_accuracy: 0.7374\n",
            "Epoch 94/500\n",
            "174/174 [==============================] - 1s 7ms/step - loss: 0.4759 - accuracy: 0.8089 - val_loss: 0.4976 - val_accuracy: 0.7439\n",
            "Epoch 95/500\n",
            "174/174 [==============================] - 1s 6ms/step - loss: 0.4736 - accuracy: 0.8136 - val_loss: 0.4955 - val_accuracy: 0.7455\n",
            "Epoch 96/500\n",
            "174/174 [==============================] - 1s 6ms/step - loss: 0.4710 - accuracy: 0.8170 - val_loss: 0.4935 - val_accuracy: 0.7488\n",
            "Epoch 97/500\n",
            "174/174 [==============================] - 1s 6ms/step - loss: 0.4697 - accuracy: 0.8208 - val_loss: 0.4915 - val_accuracy: 0.7520\n",
            "Epoch 98/500\n",
            "174/174 [==============================] - 1s 7ms/step - loss: 0.4675 - accuracy: 0.8228 - val_loss: 0.4895 - val_accuracy: 0.7569\n",
            "Epoch 99/500\n",
            "174/174 [==============================] - 1s 6ms/step - loss: 0.4650 - accuracy: 0.8269 - val_loss: 0.4875 - val_accuracy: 0.7618\n",
            "Epoch 100/500\n",
            "174/174 [==============================] - 1s 6ms/step - loss: 0.4622 - accuracy: 0.8334 - val_loss: 0.4854 - val_accuracy: 0.7666\n",
            "Epoch 101/500\n",
            "174/174 [==============================] - 1s 7ms/step - loss: 0.4609 - accuracy: 0.8347 - val_loss: 0.4835 - val_accuracy: 0.7715\n",
            "Epoch 102/500\n",
            "174/174 [==============================] - 1s 6ms/step - loss: 0.4583 - accuracy: 0.8349 - val_loss: 0.4815 - val_accuracy: 0.7763\n",
            "Epoch 103/500\n",
            "174/174 [==============================] - 1s 6ms/step - loss: 0.4558 - accuracy: 0.8397 - val_loss: 0.4795 - val_accuracy: 0.7812\n",
            "Epoch 104/500\n",
            "174/174 [==============================] - 1s 6ms/step - loss: 0.4546 - accuracy: 0.8401 - val_loss: 0.4776 - val_accuracy: 0.7796\n",
            "Epoch 105/500\n",
            "174/174 [==============================] - 1s 6ms/step - loss: 0.4511 - accuracy: 0.8448 - val_loss: 0.4756 - val_accuracy: 0.7861\n",
            "Epoch 106/500\n",
            "174/174 [==============================] - 1s 7ms/step - loss: 0.4494 - accuracy: 0.8466 - val_loss: 0.4736 - val_accuracy: 0.7893\n",
            "Epoch 107/500\n",
            "174/174 [==============================] - 1s 6ms/step - loss: 0.4481 - accuracy: 0.8482 - val_loss: 0.4717 - val_accuracy: 0.7909\n",
            "Epoch 108/500\n",
            "174/174 [==============================] - 1s 6ms/step - loss: 0.4447 - accuracy: 0.8493 - val_loss: 0.4697 - val_accuracy: 0.7942\n",
            "Epoch 109/500\n",
            "174/174 [==============================] - 1s 6ms/step - loss: 0.4438 - accuracy: 0.8505 - val_loss: 0.4678 - val_accuracy: 0.7990\n",
            "Epoch 110/500\n",
            "174/174 [==============================] - 1s 6ms/step - loss: 0.4410 - accuracy: 0.8531 - val_loss: 0.4659 - val_accuracy: 0.8071\n",
            "Epoch 111/500\n",
            "174/174 [==============================] - 1s 6ms/step - loss: 0.4391 - accuracy: 0.8585 - val_loss: 0.4640 - val_accuracy: 0.8088\n",
            "Epoch 112/500\n",
            "174/174 [==============================] - 1s 6ms/step - loss: 0.4372 - accuracy: 0.8637 - val_loss: 0.4621 - val_accuracy: 0.8104\n",
            "Epoch 113/500\n",
            "174/174 [==============================] - 1s 6ms/step - loss: 0.4350 - accuracy: 0.8594 - val_loss: 0.4602 - val_accuracy: 0.8136\n",
            "Epoch 114/500\n",
            "174/174 [==============================] - 1s 7ms/step - loss: 0.4334 - accuracy: 0.8646 - val_loss: 0.4583 - val_accuracy: 0.8136\n",
            "Epoch 115/500\n",
            "174/174 [==============================] - 1s 6ms/step - loss: 0.4315 - accuracy: 0.8664 - val_loss: 0.4564 - val_accuracy: 0.8185\n",
            "Epoch 116/500\n",
            "174/174 [==============================] - 1s 6ms/step - loss: 0.4292 - accuracy: 0.8680 - val_loss: 0.4546 - val_accuracy: 0.8217\n",
            "Epoch 117/500\n",
            "174/174 [==============================] - 1s 7ms/step - loss: 0.4275 - accuracy: 0.8671 - val_loss: 0.4527 - val_accuracy: 0.8250\n",
            "Epoch 118/500\n",
            "174/174 [==============================] - 1s 7ms/step - loss: 0.4236 - accuracy: 0.8706 - val_loss: 0.4509 - val_accuracy: 0.8266\n",
            "Epoch 119/500\n",
            "174/174 [==============================] - 1s 6ms/step - loss: 0.4226 - accuracy: 0.8709 - val_loss: 0.4490 - val_accuracy: 0.8298\n",
            "Epoch 120/500\n",
            "174/174 [==============================] - 1s 6ms/step - loss: 0.4202 - accuracy: 0.8729 - val_loss: 0.4472 - val_accuracy: 0.8314\n",
            "Epoch 121/500\n",
            "174/174 [==============================] - 1s 6ms/step - loss: 0.4192 - accuracy: 0.8738 - val_loss: 0.4454 - val_accuracy: 0.8347\n",
            "Epoch 122/500\n",
            "174/174 [==============================] - 1s 7ms/step - loss: 0.4168 - accuracy: 0.8758 - val_loss: 0.4436 - val_accuracy: 0.8363\n",
            "Epoch 123/500\n",
            "174/174 [==============================] - 1s 7ms/step - loss: 0.4144 - accuracy: 0.8798 - val_loss: 0.4418 - val_accuracy: 0.8379\n",
            "Epoch 124/500\n",
            "174/174 [==============================] - 1s 7ms/step - loss: 0.4136 - accuracy: 0.8790 - val_loss: 0.4400 - val_accuracy: 0.8363\n",
            "Epoch 125/500\n",
            "174/174 [==============================] - 1s 7ms/step - loss: 0.4108 - accuracy: 0.8783 - val_loss: 0.4383 - val_accuracy: 0.8379\n",
            "Epoch 126/500\n",
            "174/174 [==============================] - 1s 7ms/step - loss: 0.4096 - accuracy: 0.8794 - val_loss: 0.4365 - val_accuracy: 0.8395\n",
            "Epoch 127/500\n",
            "174/174 [==============================] - 1s 7ms/step - loss: 0.4073 - accuracy: 0.8821 - val_loss: 0.4348 - val_accuracy: 0.8395\n",
            "Epoch 128/500\n",
            "174/174 [==============================] - 1s 7ms/step - loss: 0.4041 - accuracy: 0.8805 - val_loss: 0.4330 - val_accuracy: 0.8412\n",
            "Epoch 129/500\n",
            "174/174 [==============================] - 1s 6ms/step - loss: 0.4028 - accuracy: 0.8846 - val_loss: 0.4313 - val_accuracy: 0.8428\n",
            "Epoch 130/500\n",
            "174/174 [==============================] - 1s 7ms/step - loss: 0.4010 - accuracy: 0.8839 - val_loss: 0.4296 - val_accuracy: 0.8493\n",
            "Epoch 131/500\n",
            "174/174 [==============================] - 1s 6ms/step - loss: 0.3994 - accuracy: 0.8848 - val_loss: 0.4279 - val_accuracy: 0.8541\n",
            "Epoch 132/500\n",
            "174/174 [==============================] - 1s 6ms/step - loss: 0.3978 - accuracy: 0.8823 - val_loss: 0.4262 - val_accuracy: 0.8541\n",
            "Epoch 133/500\n",
            "174/174 [==============================] - 1s 6ms/step - loss: 0.3951 - accuracy: 0.8835 - val_loss: 0.4245 - val_accuracy: 0.8574\n",
            "Epoch 134/500\n",
            "174/174 [==============================] - 1s 6ms/step - loss: 0.3939 - accuracy: 0.8891 - val_loss: 0.4229 - val_accuracy: 0.8606\n",
            "Epoch 135/500\n",
            "174/174 [==============================] - 1s 7ms/step - loss: 0.3916 - accuracy: 0.8880 - val_loss: 0.4212 - val_accuracy: 0.8606\n",
            "Epoch 136/500\n",
            "174/174 [==============================] - 1s 6ms/step - loss: 0.3897 - accuracy: 0.8879 - val_loss: 0.4195 - val_accuracy: 0.8606\n",
            "Epoch 137/500\n",
            "174/174 [==============================] - 1s 6ms/step - loss: 0.3877 - accuracy: 0.8906 - val_loss: 0.4179 - val_accuracy: 0.8606\n",
            "Epoch 138/500\n",
            "174/174 [==============================] - 1s 6ms/step - loss: 0.3855 - accuracy: 0.8900 - val_loss: 0.4163 - val_accuracy: 0.8606\n",
            "Epoch 139/500\n",
            "174/174 [==============================] - 1s 6ms/step - loss: 0.3847 - accuracy: 0.8868 - val_loss: 0.4147 - val_accuracy: 0.8606\n",
            "Epoch 140/500\n",
            "174/174 [==============================] - 1s 6ms/step - loss: 0.3834 - accuracy: 0.8855 - val_loss: 0.4131 - val_accuracy: 0.8655\n",
            "Epoch 141/500\n",
            "174/174 [==============================] - 1s 6ms/step - loss: 0.3807 - accuracy: 0.8906 - val_loss: 0.4115 - val_accuracy: 0.8655\n",
            "Epoch 142/500\n",
            "174/174 [==============================] - 1s 6ms/step - loss: 0.3788 - accuracy: 0.8897 - val_loss: 0.4099 - val_accuracy: 0.8671\n",
            "Epoch 143/500\n",
            "174/174 [==============================] - 1s 6ms/step - loss: 0.3775 - accuracy: 0.8927 - val_loss: 0.4083 - val_accuracy: 0.8687\n",
            "Epoch 144/500\n",
            "174/174 [==============================] - 1s 7ms/step - loss: 0.3763 - accuracy: 0.8900 - val_loss: 0.4068 - val_accuracy: 0.8687\n",
            "Epoch 145/500\n",
            "174/174 [==============================] - 1s 6ms/step - loss: 0.3737 - accuracy: 0.8942 - val_loss: 0.4053 - val_accuracy: 0.8687\n",
            "Epoch 146/500\n",
            "174/174 [==============================] - 1s 6ms/step - loss: 0.3726 - accuracy: 0.8936 - val_loss: 0.4037 - val_accuracy: 0.8687\n",
            "Epoch 147/500\n",
            "174/174 [==============================] - 1s 6ms/step - loss: 0.3700 - accuracy: 0.8944 - val_loss: 0.4022 - val_accuracy: 0.8687\n",
            "Epoch 148/500\n",
            "174/174 [==============================] - 1s 7ms/step - loss: 0.3685 - accuracy: 0.8942 - val_loss: 0.4007 - val_accuracy: 0.8687\n",
            "Epoch 149/500\n",
            "174/174 [==============================] - 1s 7ms/step - loss: 0.3671 - accuracy: 0.8938 - val_loss: 0.3992 - val_accuracy: 0.8703\n",
            "Epoch 150/500\n",
            "174/174 [==============================] - 1s 7ms/step - loss: 0.3653 - accuracy: 0.8938 - val_loss: 0.3977 - val_accuracy: 0.8720\n",
            "Epoch 151/500\n",
            "174/174 [==============================] - 1s 7ms/step - loss: 0.3632 - accuracy: 0.8992 - val_loss: 0.3962 - val_accuracy: 0.8752\n",
            "Epoch 152/500\n",
            "174/174 [==============================] - 1s 7ms/step - loss: 0.3620 - accuracy: 0.8994 - val_loss: 0.3948 - val_accuracy: 0.8752\n",
            "Epoch 153/500\n",
            "174/174 [==============================] - 1s 7ms/step - loss: 0.3594 - accuracy: 0.8998 - val_loss: 0.3933 - val_accuracy: 0.8752\n",
            "Epoch 154/500\n",
            "174/174 [==============================] - 1s 7ms/step - loss: 0.3582 - accuracy: 0.8976 - val_loss: 0.3919 - val_accuracy: 0.8752\n",
            "Epoch 155/500\n",
            "174/174 [==============================] - 1s 7ms/step - loss: 0.3565 - accuracy: 0.8965 - val_loss: 0.3904 - val_accuracy: 0.8752\n",
            "Epoch 156/500\n",
            "174/174 [==============================] - 1s 7ms/step - loss: 0.3556 - accuracy: 0.9001 - val_loss: 0.3890 - val_accuracy: 0.8752\n",
            "Epoch 157/500\n",
            "174/174 [==============================] - 1s 7ms/step - loss: 0.3539 - accuracy: 0.8976 - val_loss: 0.3876 - val_accuracy: 0.8736\n",
            "Epoch 158/500\n",
            "174/174 [==============================] - 1s 7ms/step - loss: 0.3514 - accuracy: 0.8987 - val_loss: 0.3862 - val_accuracy: 0.8703\n",
            "Epoch 159/500\n",
            "174/174 [==============================] - 1s 7ms/step - loss: 0.3503 - accuracy: 0.8978 - val_loss: 0.3849 - val_accuracy: 0.8703\n",
            "Epoch 160/500\n",
            "174/174 [==============================] - 1s 7ms/step - loss: 0.3489 - accuracy: 0.9017 - val_loss: 0.3835 - val_accuracy: 0.8703\n",
            "Epoch 161/500\n",
            "174/174 [==============================] - 1s 7ms/step - loss: 0.3472 - accuracy: 0.9014 - val_loss: 0.3821 - val_accuracy: 0.8703\n",
            "Epoch 162/500\n",
            "174/174 [==============================] - 1s 7ms/step - loss: 0.3457 - accuracy: 0.9012 - val_loss: 0.3808 - val_accuracy: 0.8720\n",
            "Epoch 163/500\n",
            "174/174 [==============================] - 1s 7ms/step - loss: 0.3430 - accuracy: 0.9041 - val_loss: 0.3794 - val_accuracy: 0.8720\n",
            "Epoch 164/500\n",
            "174/174 [==============================] - 1s 7ms/step - loss: 0.3415 - accuracy: 0.9012 - val_loss: 0.3781 - val_accuracy: 0.8736\n",
            "Epoch 165/500\n",
            "174/174 [==============================] - 1s 7ms/step - loss: 0.3401 - accuracy: 0.9025 - val_loss: 0.3768 - val_accuracy: 0.8736\n",
            "Epoch 166/500\n",
            "174/174 [==============================] - 1s 7ms/step - loss: 0.3394 - accuracy: 0.9054 - val_loss: 0.3755 - val_accuracy: 0.8752\n",
            "Epoch 167/500\n",
            "174/174 [==============================] - 1s 7ms/step - loss: 0.3372 - accuracy: 0.9027 - val_loss: 0.3742 - val_accuracy: 0.8784\n",
            "Epoch 168/500\n",
            "174/174 [==============================] - 1s 7ms/step - loss: 0.3366 - accuracy: 0.9052 - val_loss: 0.3729 - val_accuracy: 0.8784\n",
            "Epoch 169/500\n",
            "174/174 [==============================] - 1s 7ms/step - loss: 0.3345 - accuracy: 0.9041 - val_loss: 0.3716 - val_accuracy: 0.8784\n",
            "Epoch 170/500\n",
            "174/174 [==============================] - 1s 7ms/step - loss: 0.3331 - accuracy: 0.9023 - val_loss: 0.3704 - val_accuracy: 0.8768\n",
            "Epoch 171/500\n",
            "174/174 [==============================] - 1s 7ms/step - loss: 0.3327 - accuracy: 0.8999 - val_loss: 0.3691 - val_accuracy: 0.8768\n",
            "Epoch 172/500\n",
            "174/174 [==============================] - 1s 6ms/step - loss: 0.3300 - accuracy: 0.9034 - val_loss: 0.3679 - val_accuracy: 0.8752\n",
            "Epoch 173/500\n",
            "174/174 [==============================] - 1s 7ms/step - loss: 0.3291 - accuracy: 0.9032 - val_loss: 0.3666 - val_accuracy: 0.8736\n",
            "Epoch 174/500\n",
            "174/174 [==============================] - 1s 7ms/step - loss: 0.3265 - accuracy: 0.9066 - val_loss: 0.3654 - val_accuracy: 0.8736\n",
            "Epoch 175/500\n",
            "174/174 [==============================] - 1s 7ms/step - loss: 0.3256 - accuracy: 0.9041 - val_loss: 0.3642 - val_accuracy: 0.8736\n",
            "Epoch 176/500\n",
            "174/174 [==============================] - 1s 7ms/step - loss: 0.3240 - accuracy: 0.9068 - val_loss: 0.3630 - val_accuracy: 0.8720\n",
            "Epoch 177/500\n",
            "174/174 [==============================] - 1s 7ms/step - loss: 0.3236 - accuracy: 0.9079 - val_loss: 0.3618 - val_accuracy: 0.8720\n",
            "Epoch 178/500\n",
            "174/174 [==============================] - 1s 7ms/step - loss: 0.3215 - accuracy: 0.9068 - val_loss: 0.3606 - val_accuracy: 0.8736\n",
            "Epoch 179/500\n",
            "174/174 [==============================] - 1s 7ms/step - loss: 0.3204 - accuracy: 0.9070 - val_loss: 0.3595 - val_accuracy: 0.8736\n",
            "Epoch 180/500\n",
            "174/174 [==============================] - 1s 7ms/step - loss: 0.3195 - accuracy: 0.9045 - val_loss: 0.3583 - val_accuracy: 0.8736\n",
            "Epoch 181/500\n",
            "174/174 [==============================] - 1s 6ms/step - loss: 0.3160 - accuracy: 0.9090 - val_loss: 0.3572 - val_accuracy: 0.8720\n",
            "Epoch 182/500\n",
            "174/174 [==============================] - 1s 7ms/step - loss: 0.3161 - accuracy: 0.9090 - val_loss: 0.3561 - val_accuracy: 0.8720\n",
            "Epoch 183/500\n",
            "174/174 [==============================] - 1s 7ms/step - loss: 0.3144 - accuracy: 0.9063 - val_loss: 0.3549 - val_accuracy: 0.8720\n",
            "Epoch 184/500\n",
            "174/174 [==============================] - 1s 7ms/step - loss: 0.3132 - accuracy: 0.9077 - val_loss: 0.3538 - val_accuracy: 0.8720\n",
            "Epoch 185/500\n",
            "174/174 [==============================] - 1s 7ms/step - loss: 0.3125 - accuracy: 0.9099 - val_loss: 0.3527 - val_accuracy: 0.8720\n",
            "Epoch 186/500\n",
            "174/174 [==============================] - 1s 7ms/step - loss: 0.3102 - accuracy: 0.9102 - val_loss: 0.3516 - val_accuracy: 0.8720\n",
            "Epoch 187/500\n",
            "174/174 [==============================] - 1s 7ms/step - loss: 0.3100 - accuracy: 0.9082 - val_loss: 0.3506 - val_accuracy: 0.8703\n",
            "Epoch 188/500\n",
            "174/174 [==============================] - 1s 6ms/step - loss: 0.3086 - accuracy: 0.9088 - val_loss: 0.3495 - val_accuracy: 0.8703\n",
            "Epoch 189/500\n",
            "174/174 [==============================] - 1s 7ms/step - loss: 0.3066 - accuracy: 0.9117 - val_loss: 0.3484 - val_accuracy: 0.8703\n",
            "Epoch 190/500\n",
            "174/174 [==============================] - 1s 7ms/step - loss: 0.3048 - accuracy: 0.9070 - val_loss: 0.3474 - val_accuracy: 0.8703\n",
            "Epoch 191/500\n",
            "174/174 [==============================] - 1s 6ms/step - loss: 0.3038 - accuracy: 0.9117 - val_loss: 0.3463 - val_accuracy: 0.8703\n",
            "Epoch 192/500\n",
            "174/174 [==============================] - 1s 7ms/step - loss: 0.3017 - accuracy: 0.9122 - val_loss: 0.3453 - val_accuracy: 0.8687\n",
            "Epoch 193/500\n",
            "174/174 [==============================] - 1s 6ms/step - loss: 0.3012 - accuracy: 0.9099 - val_loss: 0.3443 - val_accuracy: 0.8687\n",
            "Epoch 194/500\n",
            "174/174 [==============================] - 1s 6ms/step - loss: 0.2982 - accuracy: 0.9115 - val_loss: 0.3433 - val_accuracy: 0.8687\n",
            "Epoch 195/500\n",
            "174/174 [==============================] - 1s 6ms/step - loss: 0.2984 - accuracy: 0.9133 - val_loss: 0.3423 - val_accuracy: 0.8687\n",
            "Epoch 196/500\n",
            "174/174 [==============================] - 1s 6ms/step - loss: 0.2984 - accuracy: 0.9109 - val_loss: 0.3413 - val_accuracy: 0.8687\n",
            "Epoch 197/500\n",
            "174/174 [==============================] - 1s 6ms/step - loss: 0.2960 - accuracy: 0.9106 - val_loss: 0.3403 - val_accuracy: 0.8687\n",
            "Epoch 198/500\n",
            "174/174 [==============================] - 1s 6ms/step - loss: 0.2943 - accuracy: 0.9149 - val_loss: 0.3393 - val_accuracy: 0.8671\n",
            "Epoch 199/500\n",
            "174/174 [==============================] - 1s 6ms/step - loss: 0.2931 - accuracy: 0.9147 - val_loss: 0.3384 - val_accuracy: 0.8655\n",
            "Epoch 200/500\n",
            "174/174 [==============================] - 1s 6ms/step - loss: 0.2929 - accuracy: 0.9118 - val_loss: 0.3374 - val_accuracy: 0.8639\n",
            "Epoch 201/500\n",
            "174/174 [==============================] - 1s 7ms/step - loss: 0.2910 - accuracy: 0.9140 - val_loss: 0.3365 - val_accuracy: 0.8639\n",
            "Epoch 202/500\n",
            "174/174 [==============================] - 1s 6ms/step - loss: 0.2911 - accuracy: 0.9133 - val_loss: 0.3355 - val_accuracy: 0.8639\n",
            "Epoch 203/500\n",
            "174/174 [==============================] - 1s 7ms/step - loss: 0.2888 - accuracy: 0.9151 - val_loss: 0.3346 - val_accuracy: 0.8622\n",
            "Epoch 204/500\n",
            "174/174 [==============================] - 1s 6ms/step - loss: 0.2878 - accuracy: 0.9140 - val_loss: 0.3336 - val_accuracy: 0.8606\n",
            "Epoch 205/500\n",
            "174/174 [==============================] - 1s 7ms/step - loss: 0.2857 - accuracy: 0.9135 - val_loss: 0.3327 - val_accuracy: 0.8606\n",
            "Epoch 206/500\n",
            "174/174 [==============================] - 1s 6ms/step - loss: 0.2855 - accuracy: 0.9144 - val_loss: 0.3319 - val_accuracy: 0.8606\n",
            "Epoch 207/500\n",
            "174/174 [==============================] - 1s 7ms/step - loss: 0.2838 - accuracy: 0.9176 - val_loss: 0.3310 - val_accuracy: 0.8606\n",
            "Epoch 208/500\n",
            "174/174 [==============================] - 1s 7ms/step - loss: 0.2823 - accuracy: 0.9144 - val_loss: 0.3301 - val_accuracy: 0.8606\n",
            "Epoch 209/500\n",
            "174/174 [==============================] - 1s 6ms/step - loss: 0.2817 - accuracy: 0.9162 - val_loss: 0.3292 - val_accuracy: 0.8622\n",
            "Epoch 210/500\n",
            "174/174 [==============================] - 1s 7ms/step - loss: 0.2799 - accuracy: 0.9176 - val_loss: 0.3284 - val_accuracy: 0.8639\n",
            "Epoch 211/500\n",
            "174/174 [==============================] - 1s 7ms/step - loss: 0.2795 - accuracy: 0.9183 - val_loss: 0.3275 - val_accuracy: 0.8639\n",
            "Epoch 212/500\n",
            "174/174 [==============================] - 1s 7ms/step - loss: 0.2789 - accuracy: 0.9173 - val_loss: 0.3266 - val_accuracy: 0.8639\n",
            "Epoch 213/500\n",
            "174/174 [==============================] - 1s 7ms/step - loss: 0.2773 - accuracy: 0.9183 - val_loss: 0.3258 - val_accuracy: 0.8639\n",
            "Epoch 214/500\n",
            "174/174 [==============================] - 1s 7ms/step - loss: 0.2757 - accuracy: 0.9176 - val_loss: 0.3250 - val_accuracy: 0.8655\n",
            "Epoch 215/500\n",
            "174/174 [==============================] - 1s 7ms/step - loss: 0.2756 - accuracy: 0.9176 - val_loss: 0.3241 - val_accuracy: 0.8655\n",
            "Epoch 216/500\n",
            "174/174 [==============================] - 1s 7ms/step - loss: 0.2739 - accuracy: 0.9165 - val_loss: 0.3233 - val_accuracy: 0.8655\n",
            "Epoch 217/500\n",
            "174/174 [==============================] - 1s 7ms/step - loss: 0.2726 - accuracy: 0.9210 - val_loss: 0.3225 - val_accuracy: 0.8655\n",
            "Epoch 218/500\n",
            "174/174 [==============================] - 1s 6ms/step - loss: 0.2707 - accuracy: 0.9214 - val_loss: 0.3217 - val_accuracy: 0.8655\n",
            "Epoch 219/500\n",
            "174/174 [==============================] - 1s 7ms/step - loss: 0.2702 - accuracy: 0.9212 - val_loss: 0.3209 - val_accuracy: 0.8655\n",
            "Epoch 220/500\n",
            "174/174 [==============================] - 1s 7ms/step - loss: 0.2697 - accuracy: 0.9239 - val_loss: 0.3202 - val_accuracy: 0.8655\n",
            "Epoch 221/500\n",
            "174/174 [==============================] - 1s 6ms/step - loss: 0.2689 - accuracy: 0.9189 - val_loss: 0.3194 - val_accuracy: 0.8671\n",
            "Epoch 222/500\n",
            "174/174 [==============================] - 1s 7ms/step - loss: 0.2679 - accuracy: 0.9191 - val_loss: 0.3186 - val_accuracy: 0.8687\n",
            "Epoch 223/500\n",
            "174/174 [==============================] - 1s 7ms/step - loss: 0.2663 - accuracy: 0.9194 - val_loss: 0.3179 - val_accuracy: 0.8687\n",
            "Epoch 224/500\n",
            "174/174 [==============================] - 1s 7ms/step - loss: 0.2656 - accuracy: 0.9207 - val_loss: 0.3171 - val_accuracy: 0.8687\n",
            "Epoch 225/500\n",
            "174/174 [==============================] - 1s 7ms/step - loss: 0.2628 - accuracy: 0.9183 - val_loss: 0.3163 - val_accuracy: 0.8687\n",
            "Epoch 226/500\n",
            "174/174 [==============================] - 1s 7ms/step - loss: 0.2637 - accuracy: 0.9192 - val_loss: 0.3156 - val_accuracy: 0.8687\n",
            "Epoch 227/500\n",
            "174/174 [==============================] - 1s 7ms/step - loss: 0.2626 - accuracy: 0.9207 - val_loss: 0.3149 - val_accuracy: 0.8671\n",
            "Epoch 228/500\n",
            "174/174 [==============================] - 1s 7ms/step - loss: 0.2607 - accuracy: 0.9243 - val_loss: 0.3142 - val_accuracy: 0.8671\n",
            "Epoch 229/500\n",
            "174/174 [==============================] - 1s 7ms/step - loss: 0.2598 - accuracy: 0.9198 - val_loss: 0.3135 - val_accuracy: 0.8671\n",
            "Epoch 230/500\n",
            "174/174 [==============================] - 1s 7ms/step - loss: 0.2601 - accuracy: 0.9223 - val_loss: 0.3128 - val_accuracy: 0.8671\n",
            "Epoch 231/500\n",
            "174/174 [==============================] - 1s 7ms/step - loss: 0.2572 - accuracy: 0.9223 - val_loss: 0.3121 - val_accuracy: 0.8671\n",
            "Epoch 232/500\n",
            "174/174 [==============================] - 1s 7ms/step - loss: 0.2571 - accuracy: 0.9216 - val_loss: 0.3114 - val_accuracy: 0.8671\n",
            "Epoch 233/500\n",
            "174/174 [==============================] - 1s 6ms/step - loss: 0.2553 - accuracy: 0.9207 - val_loss: 0.3107 - val_accuracy: 0.8671\n",
            "Epoch 234/500\n",
            "174/174 [==============================] - 1s 7ms/step - loss: 0.2557 - accuracy: 0.9252 - val_loss: 0.3101 - val_accuracy: 0.8671\n",
            "Epoch 235/500\n",
            "174/174 [==============================] - 1s 7ms/step - loss: 0.2544 - accuracy: 0.9223 - val_loss: 0.3094 - val_accuracy: 0.8671\n",
            "Epoch 236/500\n",
            "174/174 [==============================] - 1s 7ms/step - loss: 0.2525 - accuracy: 0.9254 - val_loss: 0.3087 - val_accuracy: 0.8671\n",
            "Epoch 237/500\n",
            "174/174 [==============================] - 1s 7ms/step - loss: 0.2509 - accuracy: 0.9264 - val_loss: 0.3081 - val_accuracy: 0.8671\n",
            "Epoch 238/500\n",
            "174/174 [==============================] - 1s 7ms/step - loss: 0.2515 - accuracy: 0.9236 - val_loss: 0.3074 - val_accuracy: 0.8671\n",
            "Epoch 239/500\n",
            "174/174 [==============================] - 1s 7ms/step - loss: 0.2503 - accuracy: 0.9237 - val_loss: 0.3068 - val_accuracy: 0.8671\n",
            "Epoch 240/500\n",
            "174/174 [==============================] - 1s 7ms/step - loss: 0.2486 - accuracy: 0.9241 - val_loss: 0.3061 - val_accuracy: 0.8687\n",
            "Epoch 241/500\n",
            "174/174 [==============================] - 1s 7ms/step - loss: 0.2486 - accuracy: 0.9239 - val_loss: 0.3055 - val_accuracy: 0.8687\n",
            "Epoch 242/500\n",
            "174/174 [==============================] - 1s 7ms/step - loss: 0.2479 - accuracy: 0.9286 - val_loss: 0.3049 - val_accuracy: 0.8687\n",
            "Epoch 243/500\n",
            "174/174 [==============================] - 1s 7ms/step - loss: 0.2454 - accuracy: 0.9293 - val_loss: 0.3042 - val_accuracy: 0.8687\n",
            "Epoch 244/500\n",
            "174/174 [==============================] - 1s 7ms/step - loss: 0.2469 - accuracy: 0.9248 - val_loss: 0.3036 - val_accuracy: 0.8687\n",
            "Epoch 245/500\n",
            "174/174 [==============================] - 1s 7ms/step - loss: 0.2452 - accuracy: 0.9248 - val_loss: 0.3030 - val_accuracy: 0.8687\n",
            "Epoch 246/500\n",
            "174/174 [==============================] - 1s 7ms/step - loss: 0.2457 - accuracy: 0.9252 - val_loss: 0.3025 - val_accuracy: 0.8687\n",
            "Epoch 247/500\n",
            "174/174 [==============================] - 1s 7ms/step - loss: 0.2436 - accuracy: 0.9264 - val_loss: 0.3019 - val_accuracy: 0.8687\n",
            "Epoch 248/500\n",
            "174/174 [==============================] - 1s 7ms/step - loss: 0.2429 - accuracy: 0.9248 - val_loss: 0.3013 - val_accuracy: 0.8687\n",
            "Epoch 249/500\n",
            "174/174 [==============================] - 1s 7ms/step - loss: 0.2421 - accuracy: 0.9275 - val_loss: 0.3008 - val_accuracy: 0.8671\n",
            "Epoch 250/500\n",
            "174/174 [==============================] - 1s 7ms/step - loss: 0.2397 - accuracy: 0.9261 - val_loss: 0.3002 - val_accuracy: 0.8671\n",
            "Epoch 251/500\n",
            "174/174 [==============================] - 1s 7ms/step - loss: 0.2400 - accuracy: 0.9270 - val_loss: 0.2996 - val_accuracy: 0.8671\n",
            "Epoch 252/500\n",
            "174/174 [==============================] - 1s 7ms/step - loss: 0.2391 - accuracy: 0.9272 - val_loss: 0.2990 - val_accuracy: 0.8687\n",
            "Epoch 253/500\n",
            "174/174 [==============================] - 1s 7ms/step - loss: 0.2385 - accuracy: 0.9288 - val_loss: 0.2985 - val_accuracy: 0.8687\n",
            "Epoch 254/500\n",
            "174/174 [==============================] - 1s 7ms/step - loss: 0.2375 - accuracy: 0.9306 - val_loss: 0.2979 - val_accuracy: 0.8687\n",
            "Epoch 255/500\n",
            "174/174 [==============================] - 1s 7ms/step - loss: 0.2360 - accuracy: 0.9292 - val_loss: 0.2974 - val_accuracy: 0.8687\n",
            "Epoch 256/500\n",
            "174/174 [==============================] - 1s 7ms/step - loss: 0.2345 - accuracy: 0.9293 - val_loss: 0.2969 - val_accuracy: 0.8687\n",
            "Epoch 257/500\n",
            "174/174 [==============================] - 1s 7ms/step - loss: 0.2351 - accuracy: 0.9252 - val_loss: 0.2964 - val_accuracy: 0.8703\n",
            "Epoch 258/500\n",
            "174/174 [==============================] - 1s 7ms/step - loss: 0.2328 - accuracy: 0.9310 - val_loss: 0.2958 - val_accuracy: 0.8703\n",
            "Epoch 259/500\n",
            "174/174 [==============================] - 1s 7ms/step - loss: 0.2346 - accuracy: 0.9270 - val_loss: 0.2953 - val_accuracy: 0.8703\n",
            "Epoch 260/500\n",
            "174/174 [==============================] - 1s 7ms/step - loss: 0.2317 - accuracy: 0.9275 - val_loss: 0.2948 - val_accuracy: 0.8703\n",
            "Epoch 261/500\n",
            "174/174 [==============================] - 1s 7ms/step - loss: 0.2312 - accuracy: 0.9342 - val_loss: 0.2943 - val_accuracy: 0.8703\n",
            "Epoch 262/500\n",
            "174/174 [==============================] - 1s 7ms/step - loss: 0.2324 - accuracy: 0.9273 - val_loss: 0.2938 - val_accuracy: 0.8703\n",
            "Epoch 263/500\n",
            "174/174 [==============================] - 1s 7ms/step - loss: 0.2305 - accuracy: 0.9304 - val_loss: 0.2933 - val_accuracy: 0.8703\n",
            "Epoch 264/500\n",
            "174/174 [==============================] - 1s 7ms/step - loss: 0.2285 - accuracy: 0.9337 - val_loss: 0.2928 - val_accuracy: 0.8720\n",
            "Epoch 265/500\n",
            "174/174 [==============================] - 1s 7ms/step - loss: 0.2280 - accuracy: 0.9322 - val_loss: 0.2923 - val_accuracy: 0.8720\n",
            "Epoch 266/500\n",
            "174/174 [==============================] - 1s 7ms/step - loss: 0.2264 - accuracy: 0.9301 - val_loss: 0.2919 - val_accuracy: 0.8720\n",
            "Epoch 267/500\n",
            "174/174 [==============================] - 1s 7ms/step - loss: 0.2266 - accuracy: 0.9349 - val_loss: 0.2914 - val_accuracy: 0.8720\n",
            "Epoch 268/500\n",
            "174/174 [==============================] - 1s 7ms/step - loss: 0.2269 - accuracy: 0.9286 - val_loss: 0.2909 - val_accuracy: 0.8720\n",
            "Epoch 269/500\n",
            "174/174 [==============================] - 1s 7ms/step - loss: 0.2248 - accuracy: 0.9308 - val_loss: 0.2905 - val_accuracy: 0.8720\n",
            "Epoch 270/500\n",
            "174/174 [==============================] - 1s 7ms/step - loss: 0.2235 - accuracy: 0.9329 - val_loss: 0.2900 - val_accuracy: 0.8736\n",
            "Epoch 271/500\n",
            "174/174 [==============================] - 1s 7ms/step - loss: 0.2230 - accuracy: 0.9310 - val_loss: 0.2895 - val_accuracy: 0.8736\n",
            "Epoch 272/500\n",
            "174/174 [==============================] - 1s 7ms/step - loss: 0.2245 - accuracy: 0.9292 - val_loss: 0.2891 - val_accuracy: 0.8736\n",
            "Epoch 273/500\n",
            "174/174 [==============================] - 1s 7ms/step - loss: 0.2214 - accuracy: 0.9326 - val_loss: 0.2886 - val_accuracy: 0.8736\n",
            "Epoch 274/500\n",
            "174/174 [==============================] - 1s 7ms/step - loss: 0.2214 - accuracy: 0.9353 - val_loss: 0.2882 - val_accuracy: 0.8736\n",
            "Epoch 275/500\n",
            "174/174 [==============================] - 1s 7ms/step - loss: 0.2210 - accuracy: 0.9351 - val_loss: 0.2877 - val_accuracy: 0.8736\n",
            "Epoch 276/500\n",
            "174/174 [==============================] - 1s 7ms/step - loss: 0.2195 - accuracy: 0.9326 - val_loss: 0.2873 - val_accuracy: 0.8736\n",
            "Epoch 277/500\n",
            "174/174 [==============================] - 1s 7ms/step - loss: 0.2183 - accuracy: 0.9335 - val_loss: 0.2869 - val_accuracy: 0.8736\n",
            "Epoch 278/500\n",
            "174/174 [==============================] - 1s 7ms/step - loss: 0.2182 - accuracy: 0.9326 - val_loss: 0.2865 - val_accuracy: 0.8736\n",
            "Epoch 279/500\n",
            "174/174 [==============================] - 1s 7ms/step - loss: 0.2171 - accuracy: 0.9364 - val_loss: 0.2861 - val_accuracy: 0.8736\n",
            "Epoch 280/500\n",
            "174/174 [==============================] - 1s 7ms/step - loss: 0.2155 - accuracy: 0.9355 - val_loss: 0.2856 - val_accuracy: 0.8736\n",
            "Epoch 281/500\n",
            "174/174 [==============================] - 1s 7ms/step - loss: 0.2158 - accuracy: 0.9346 - val_loss: 0.2853 - val_accuracy: 0.8736\n",
            "Epoch 282/500\n",
            "174/174 [==============================] - 1s 7ms/step - loss: 0.2156 - accuracy: 0.9344 - val_loss: 0.2849 - val_accuracy: 0.8736\n",
            "Epoch 283/500\n",
            "174/174 [==============================] - 1s 7ms/step - loss: 0.2151 - accuracy: 0.9364 - val_loss: 0.2845 - val_accuracy: 0.8752\n",
            "Epoch 284/500\n",
            "174/174 [==============================] - 1s 7ms/step - loss: 0.2130 - accuracy: 0.9383 - val_loss: 0.2841 - val_accuracy: 0.8752\n",
            "Epoch 285/500\n",
            "174/174 [==============================] - 1s 7ms/step - loss: 0.2128 - accuracy: 0.9362 - val_loss: 0.2837 - val_accuracy: 0.8752\n",
            "Epoch 286/500\n",
            "174/174 [==============================] - 1s 7ms/step - loss: 0.2109 - accuracy: 0.9358 - val_loss: 0.2833 - val_accuracy: 0.8752\n",
            "Epoch 287/500\n",
            "174/174 [==============================] - 1s 7ms/step - loss: 0.2095 - accuracy: 0.9353 - val_loss: 0.2829 - val_accuracy: 0.8752\n",
            "Epoch 288/500\n",
            "174/174 [==============================] - 1s 7ms/step - loss: 0.2108 - accuracy: 0.9376 - val_loss: 0.2825 - val_accuracy: 0.8768\n",
            "Epoch 289/500\n",
            "174/174 [==============================] - 1s 7ms/step - loss: 0.2099 - accuracy: 0.9356 - val_loss: 0.2822 - val_accuracy: 0.8768\n",
            "Epoch 290/500\n",
            "174/174 [==============================] - 1s 7ms/step - loss: 0.2089 - accuracy: 0.9394 - val_loss: 0.2818 - val_accuracy: 0.8768\n",
            "Epoch 291/500\n",
            "174/174 [==============================] - 1s 7ms/step - loss: 0.2086 - accuracy: 0.9376 - val_loss: 0.2814 - val_accuracy: 0.8768\n",
            "Epoch 292/500\n",
            "174/174 [==============================] - 1s 7ms/step - loss: 0.2088 - accuracy: 0.9374 - val_loss: 0.2810 - val_accuracy: 0.8768\n",
            "Epoch 293/500\n",
            "174/174 [==============================] - 1s 7ms/step - loss: 0.2059 - accuracy: 0.9389 - val_loss: 0.2807 - val_accuracy: 0.8768\n",
            "Epoch 294/500\n",
            "174/174 [==============================] - 1s 7ms/step - loss: 0.2065 - accuracy: 0.9374 - val_loss: 0.2803 - val_accuracy: 0.8768\n",
            "Epoch 295/500\n",
            "174/174 [==============================] - 1s 7ms/step - loss: 0.2060 - accuracy: 0.9383 - val_loss: 0.2800 - val_accuracy: 0.8768\n",
            "Epoch 296/500\n",
            "174/174 [==============================] - 1s 7ms/step - loss: 0.2050 - accuracy: 0.9398 - val_loss: 0.2797 - val_accuracy: 0.8768\n",
            "Epoch 297/500\n",
            "174/174 [==============================] - 1s 7ms/step - loss: 0.2042 - accuracy: 0.9416 - val_loss: 0.2793 - val_accuracy: 0.8768\n",
            "Epoch 298/500\n",
            "174/174 [==============================] - 1s 7ms/step - loss: 0.2035 - accuracy: 0.9380 - val_loss: 0.2790 - val_accuracy: 0.8768\n",
            "Epoch 299/500\n",
            "174/174 [==============================] - 1s 7ms/step - loss: 0.2018 - accuracy: 0.9410 - val_loss: 0.2787 - val_accuracy: 0.8768\n",
            "Epoch 300/500\n",
            "174/174 [==============================] - 1s 8ms/step - loss: 0.2020 - accuracy: 0.9401 - val_loss: 0.2783 - val_accuracy: 0.8768\n",
            "Epoch 301/500\n",
            "174/174 [==============================] - 1s 7ms/step - loss: 0.2013 - accuracy: 0.9383 - val_loss: 0.2780 - val_accuracy: 0.8784\n",
            "Epoch 302/500\n",
            "174/174 [==============================] - 1s 7ms/step - loss: 0.2026 - accuracy: 0.9392 - val_loss: 0.2776 - val_accuracy: 0.8768\n",
            "Epoch 303/500\n",
            "174/174 [==============================] - 1s 7ms/step - loss: 0.1996 - accuracy: 0.9403 - val_loss: 0.2773 - val_accuracy: 0.8784\n",
            "Epoch 304/500\n",
            "174/174 [==============================] - 1s 7ms/step - loss: 0.2011 - accuracy: 0.9382 - val_loss: 0.2770 - val_accuracy: 0.8784\n",
            "Epoch 305/500\n",
            "174/174 [==============================] - 1s 7ms/step - loss: 0.1997 - accuracy: 0.9398 - val_loss: 0.2767 - val_accuracy: 0.8784\n",
            "Epoch 306/500\n",
            "174/174 [==============================] - 1s 7ms/step - loss: 0.1972 - accuracy: 0.9430 - val_loss: 0.2764 - val_accuracy: 0.8784\n",
            "Epoch 307/500\n",
            "174/174 [==============================] - 1s 7ms/step - loss: 0.1980 - accuracy: 0.9423 - val_loss: 0.2761 - val_accuracy: 0.8784\n",
            "Epoch 308/500\n",
            "174/174 [==============================] - 1s 7ms/step - loss: 0.1979 - accuracy: 0.9398 - val_loss: 0.2758 - val_accuracy: 0.8768\n",
            "Epoch 309/500\n",
            "174/174 [==============================] - 1s 7ms/step - loss: 0.1955 - accuracy: 0.9418 - val_loss: 0.2755 - val_accuracy: 0.8768\n",
            "Epoch 310/500\n",
            "174/174 [==============================] - 1s 7ms/step - loss: 0.1957 - accuracy: 0.9400 - val_loss: 0.2752 - val_accuracy: 0.8784\n",
            "Epoch 311/500\n",
            "174/174 [==============================] - 1s 7ms/step - loss: 0.1941 - accuracy: 0.9418 - val_loss: 0.2749 - val_accuracy: 0.8768\n",
            "Epoch 312/500\n",
            "174/174 [==============================] - 1s 7ms/step - loss: 0.1939 - accuracy: 0.9441 - val_loss: 0.2746 - val_accuracy: 0.8784\n",
            "Epoch 313/500\n",
            "174/174 [==============================] - 1s 7ms/step - loss: 0.1953 - accuracy: 0.9427 - val_loss: 0.2744 - val_accuracy: 0.8801\n",
            "Epoch 314/500\n",
            "174/174 [==============================] - 1s 7ms/step - loss: 0.1936 - accuracy: 0.9398 - val_loss: 0.2741 - val_accuracy: 0.8784\n",
            "Epoch 315/500\n",
            "174/174 [==============================] - 1s 7ms/step - loss: 0.1928 - accuracy: 0.9439 - val_loss: 0.2738 - val_accuracy: 0.8784\n",
            "Epoch 316/500\n",
            "174/174 [==============================] - 1s 7ms/step - loss: 0.1920 - accuracy: 0.9443 - val_loss: 0.2735 - val_accuracy: 0.8801\n",
            "Epoch 317/500\n",
            "174/174 [==============================] - 1s 7ms/step - loss: 0.1922 - accuracy: 0.9463 - val_loss: 0.2733 - val_accuracy: 0.8801\n",
            "Epoch 318/500\n",
            "174/174 [==============================] - 1s 8ms/step - loss: 0.1914 - accuracy: 0.9429 - val_loss: 0.2730 - val_accuracy: 0.8801\n",
            "Epoch 319/500\n",
            "174/174 [==============================] - 1s 7ms/step - loss: 0.1915 - accuracy: 0.9429 - val_loss: 0.2727 - val_accuracy: 0.8817\n",
            "Epoch 320/500\n",
            "174/174 [==============================] - 1s 7ms/step - loss: 0.1907 - accuracy: 0.9425 - val_loss: 0.2725 - val_accuracy: 0.8801\n",
            "Epoch 321/500\n",
            "174/174 [==============================] - 1s 7ms/step - loss: 0.1885 - accuracy: 0.9427 - val_loss: 0.2722 - val_accuracy: 0.8817\n",
            "Epoch 322/500\n",
            "174/174 [==============================] - 1s 7ms/step - loss: 0.1884 - accuracy: 0.9432 - val_loss: 0.2719 - val_accuracy: 0.8817\n",
            "Epoch 323/500\n",
            "174/174 [==============================] - 1s 7ms/step - loss: 0.1865 - accuracy: 0.9447 - val_loss: 0.2717 - val_accuracy: 0.8817\n",
            "Epoch 324/500\n",
            "174/174 [==============================] - 1s 7ms/step - loss: 0.1874 - accuracy: 0.9438 - val_loss: 0.2714 - val_accuracy: 0.8817\n",
            "Epoch 325/500\n",
            "174/174 [==============================] - 1s 7ms/step - loss: 0.1867 - accuracy: 0.9443 - val_loss: 0.2712 - val_accuracy: 0.8817\n",
            "Epoch 326/500\n",
            "174/174 [==============================] - 1s 7ms/step - loss: 0.1873 - accuracy: 0.9457 - val_loss: 0.2709 - val_accuracy: 0.8817\n",
            "Epoch 327/500\n",
            "174/174 [==============================] - 1s 7ms/step - loss: 0.1848 - accuracy: 0.9436 - val_loss: 0.2707 - val_accuracy: 0.8817\n",
            "Epoch 328/500\n",
            "174/174 [==============================] - 1s 7ms/step - loss: 0.1852 - accuracy: 0.9439 - val_loss: 0.2704 - val_accuracy: 0.8817\n",
            "Epoch 329/500\n",
            "174/174 [==============================] - 1s 7ms/step - loss: 0.1856 - accuracy: 0.9445 - val_loss: 0.2702 - val_accuracy: 0.8817\n",
            "Epoch 330/500\n",
            "174/174 [==============================] - 1s 7ms/step - loss: 0.1843 - accuracy: 0.9441 - val_loss: 0.2700 - val_accuracy: 0.8817\n",
            "Epoch 331/500\n",
            "174/174 [==============================] - 1s 7ms/step - loss: 0.1823 - accuracy: 0.9450 - val_loss: 0.2698 - val_accuracy: 0.8817\n",
            "Epoch 332/500\n",
            "174/174 [==============================] - 1s 7ms/step - loss: 0.1818 - accuracy: 0.9481 - val_loss: 0.2695 - val_accuracy: 0.8817\n",
            "Epoch 333/500\n",
            "174/174 [==============================] - 1s 7ms/step - loss: 0.1822 - accuracy: 0.9443 - val_loss: 0.2693 - val_accuracy: 0.8817\n",
            "Epoch 334/500\n",
            "174/174 [==============================] - 1s 7ms/step - loss: 0.1818 - accuracy: 0.9492 - val_loss: 0.2691 - val_accuracy: 0.8817\n",
            "Epoch 335/500\n",
            "174/174 [==============================] - 1s 7ms/step - loss: 0.1812 - accuracy: 0.9483 - val_loss: 0.2689 - val_accuracy: 0.8817\n",
            "Epoch 336/500\n",
            "174/174 [==============================] - 1s 7ms/step - loss: 0.1810 - accuracy: 0.9477 - val_loss: 0.2686 - val_accuracy: 0.8817\n",
            "Epoch 337/500\n",
            "174/174 [==============================] - 1s 7ms/step - loss: 0.1790 - accuracy: 0.9470 - val_loss: 0.2685 - val_accuracy: 0.8817\n",
            "Epoch 338/500\n",
            "174/174 [==============================] - 1s 7ms/step - loss: 0.1802 - accuracy: 0.9475 - val_loss: 0.2682 - val_accuracy: 0.8817\n",
            "Epoch 339/500\n",
            "174/174 [==============================] - 1s 7ms/step - loss: 0.1786 - accuracy: 0.9481 - val_loss: 0.2681 - val_accuracy: 0.8817\n",
            "Epoch 340/500\n",
            "174/174 [==============================] - 1s 7ms/step - loss: 0.1775 - accuracy: 0.9475 - val_loss: 0.2678 - val_accuracy: 0.8817\n",
            "Epoch 341/500\n",
            "174/174 [==============================] - 1s 7ms/step - loss: 0.1775 - accuracy: 0.9481 - val_loss: 0.2677 - val_accuracy: 0.8817\n",
            "Epoch 342/500\n",
            "174/174 [==============================] - 1s 7ms/step - loss: 0.1785 - accuracy: 0.9472 - val_loss: 0.2675 - val_accuracy: 0.8817\n",
            "Epoch 343/500\n",
            "174/174 [==============================] - 1s 7ms/step - loss: 0.1769 - accuracy: 0.9492 - val_loss: 0.2673 - val_accuracy: 0.8817\n",
            "Epoch 344/500\n",
            "174/174 [==============================] - 1s 8ms/step - loss: 0.1776 - accuracy: 0.9461 - val_loss: 0.2671 - val_accuracy: 0.8817\n",
            "Epoch 345/500\n",
            "174/174 [==============================] - 1s 7ms/step - loss: 0.1743 - accuracy: 0.9461 - val_loss: 0.2669 - val_accuracy: 0.8801\n",
            "Epoch 346/500\n",
            "174/174 [==============================] - 1s 8ms/step - loss: 0.1750 - accuracy: 0.9508 - val_loss: 0.2667 - val_accuracy: 0.8801\n",
            "Epoch 347/500\n",
            "174/174 [==============================] - 1s 7ms/step - loss: 0.1767 - accuracy: 0.9468 - val_loss: 0.2665 - val_accuracy: 0.8801\n",
            "Epoch 348/500\n",
            "174/174 [==============================] - 1s 7ms/step - loss: 0.1744 - accuracy: 0.9452 - val_loss: 0.2663 - val_accuracy: 0.8801\n",
            "Epoch 349/500\n",
            "174/174 [==============================] - 1s 7ms/step - loss: 0.1729 - accuracy: 0.9519 - val_loss: 0.2661 - val_accuracy: 0.8801\n",
            "Epoch 350/500\n",
            "174/174 [==============================] - 1s 7ms/step - loss: 0.1730 - accuracy: 0.9492 - val_loss: 0.2659 - val_accuracy: 0.8801\n",
            "Epoch 351/500\n",
            "174/174 [==============================] - 1s 7ms/step - loss: 0.1727 - accuracy: 0.9501 - val_loss: 0.2657 - val_accuracy: 0.8801\n",
            "Epoch 352/500\n",
            "174/174 [==============================] - 1s 8ms/step - loss: 0.1716 - accuracy: 0.9466 - val_loss: 0.2656 - val_accuracy: 0.8801\n",
            "Epoch 353/500\n",
            "174/174 [==============================] - 1s 7ms/step - loss: 0.1734 - accuracy: 0.9486 - val_loss: 0.2654 - val_accuracy: 0.8801\n",
            "Epoch 354/500\n",
            "174/174 [==============================] - 1s 7ms/step - loss: 0.1731 - accuracy: 0.9492 - val_loss: 0.2652 - val_accuracy: 0.8801\n",
            "Epoch 355/500\n",
            "174/174 [==============================] - 1s 8ms/step - loss: 0.1700 - accuracy: 0.9499 - val_loss: 0.2651 - val_accuracy: 0.8801\n",
            "Epoch 356/500\n",
            "174/174 [==============================] - 1s 7ms/step - loss: 0.1684 - accuracy: 0.9524 - val_loss: 0.2649 - val_accuracy: 0.8801\n",
            "Epoch 357/500\n",
            "174/174 [==============================] - 1s 7ms/step - loss: 0.1679 - accuracy: 0.9519 - val_loss: 0.2647 - val_accuracy: 0.8801\n",
            "Epoch 358/500\n",
            "174/174 [==============================] - 1s 8ms/step - loss: 0.1685 - accuracy: 0.9531 - val_loss: 0.2646 - val_accuracy: 0.8801\n",
            "Epoch 359/500\n",
            "174/174 [==============================] - 1s 8ms/step - loss: 0.1679 - accuracy: 0.9528 - val_loss: 0.2644 - val_accuracy: 0.8768\n",
            "Epoch 360/500\n",
            "174/174 [==============================] - 1s 7ms/step - loss: 0.1682 - accuracy: 0.9522 - val_loss: 0.2643 - val_accuracy: 0.8768\n",
            "Epoch 361/500\n",
            "174/174 [==============================] - 1s 7ms/step - loss: 0.1694 - accuracy: 0.9490 - val_loss: 0.2641 - val_accuracy: 0.8768\n",
            "Epoch 362/500\n",
            "174/174 [==============================] - 1s 7ms/step - loss: 0.1664 - accuracy: 0.9513 - val_loss: 0.2639 - val_accuracy: 0.8768\n",
            "Epoch 363/500\n",
            "174/174 [==============================] - 1s 7ms/step - loss: 0.1650 - accuracy: 0.9522 - val_loss: 0.2638 - val_accuracy: 0.8768\n",
            "Epoch 364/500\n",
            "174/174 [==============================] - 1s 7ms/step - loss: 0.1662 - accuracy: 0.9495 - val_loss: 0.2636 - val_accuracy: 0.8768\n",
            "Epoch 365/500\n",
            "174/174 [==============================] - 1s 8ms/step - loss: 0.1662 - accuracy: 0.9508 - val_loss: 0.2635 - val_accuracy: 0.8768\n",
            "Epoch 366/500\n",
            "174/174 [==============================] - 1s 7ms/step - loss: 0.1653 - accuracy: 0.9515 - val_loss: 0.2634 - val_accuracy: 0.8768\n",
            "Epoch 367/500\n",
            "174/174 [==============================] - 1s 7ms/step - loss: 0.1637 - accuracy: 0.9557 - val_loss: 0.2632 - val_accuracy: 0.8768\n",
            "Epoch 368/500\n",
            "174/174 [==============================] - 1s 7ms/step - loss: 0.1645 - accuracy: 0.9526 - val_loss: 0.2631 - val_accuracy: 0.8784\n",
            "Epoch 369/500\n",
            "174/174 [==============================] - 1s 7ms/step - loss: 0.1634 - accuracy: 0.9528 - val_loss: 0.2630 - val_accuracy: 0.8784\n",
            "Epoch 370/500\n",
            "174/174 [==============================] - 1s 8ms/step - loss: 0.1630 - accuracy: 0.9513 - val_loss: 0.2628 - val_accuracy: 0.8784\n",
            "Epoch 371/500\n",
            "174/174 [==============================] - 1s 8ms/step - loss: 0.1627 - accuracy: 0.9531 - val_loss: 0.2627 - val_accuracy: 0.8784\n",
            "Epoch 372/500\n",
            "174/174 [==============================] - 1s 8ms/step - loss: 0.1625 - accuracy: 0.9515 - val_loss: 0.2625 - val_accuracy: 0.8784\n",
            "Epoch 373/500\n",
            "174/174 [==============================] - 1s 8ms/step - loss: 0.1590 - accuracy: 0.9551 - val_loss: 0.2624 - val_accuracy: 0.8784\n",
            "Epoch 374/500\n",
            "174/174 [==============================] - 1s 7ms/step - loss: 0.1620 - accuracy: 0.9517 - val_loss: 0.2623 - val_accuracy: 0.8784\n",
            "Epoch 375/500\n",
            "174/174 [==============================] - 1s 7ms/step - loss: 0.1601 - accuracy: 0.9558 - val_loss: 0.2621 - val_accuracy: 0.8784\n",
            "Epoch 376/500\n",
            "174/174 [==============================] - 1s 7ms/step - loss: 0.1615 - accuracy: 0.9555 - val_loss: 0.2620 - val_accuracy: 0.8784\n",
            "Epoch 377/500\n",
            "174/174 [==============================] - 1s 7ms/step - loss: 0.1607 - accuracy: 0.9519 - val_loss: 0.2619 - val_accuracy: 0.8784\n",
            "Epoch 378/500\n",
            "174/174 [==============================] - 1s 7ms/step - loss: 0.1609 - accuracy: 0.9497 - val_loss: 0.2618 - val_accuracy: 0.8784\n",
            "Epoch 379/500\n",
            "174/174 [==============================] - 1s 7ms/step - loss: 0.1583 - accuracy: 0.9535 - val_loss: 0.2616 - val_accuracy: 0.8784\n",
            "Epoch 380/500\n",
            "174/174 [==============================] - 1s 7ms/step - loss: 0.1595 - accuracy: 0.9540 - val_loss: 0.2615 - val_accuracy: 0.8784\n",
            "Epoch 381/500\n",
            "174/174 [==============================] - 1s 7ms/step - loss: 0.1582 - accuracy: 0.9544 - val_loss: 0.2614 - val_accuracy: 0.8768\n",
            "Epoch 382/500\n",
            "174/174 [==============================] - 1s 7ms/step - loss: 0.1581 - accuracy: 0.9548 - val_loss: 0.2613 - val_accuracy: 0.8768\n",
            "Epoch 383/500\n",
            "174/174 [==============================] - 1s 7ms/step - loss: 0.1563 - accuracy: 0.9566 - val_loss: 0.2612 - val_accuracy: 0.8768\n",
            "Epoch 384/500\n",
            "174/174 [==============================] - 1s 7ms/step - loss: 0.1587 - accuracy: 0.9529 - val_loss: 0.2611 - val_accuracy: 0.8768\n",
            "Epoch 385/500\n",
            "174/174 [==============================] - 1s 7ms/step - loss: 0.1549 - accuracy: 0.9560 - val_loss: 0.2610 - val_accuracy: 0.8768\n",
            "Epoch 386/500\n",
            "174/174 [==============================] - 1s 7ms/step - loss: 0.1561 - accuracy: 0.9529 - val_loss: 0.2609 - val_accuracy: 0.8768\n",
            "Epoch 387/500\n",
            "174/174 [==============================] - 1s 7ms/step - loss: 0.1543 - accuracy: 0.9580 - val_loss: 0.2608 - val_accuracy: 0.8768\n",
            "Epoch 388/500\n",
            "174/174 [==============================] - 1s 7ms/step - loss: 0.1561 - accuracy: 0.9544 - val_loss: 0.2607 - val_accuracy: 0.8768\n",
            "Epoch 389/500\n",
            "174/174 [==============================] - 1s 7ms/step - loss: 0.1553 - accuracy: 0.9542 - val_loss: 0.2606 - val_accuracy: 0.8768\n",
            "Epoch 390/500\n",
            "174/174 [==============================] - 1s 8ms/step - loss: 0.1565 - accuracy: 0.9544 - val_loss: 0.2605 - val_accuracy: 0.8768\n",
            "Epoch 391/500\n",
            "174/174 [==============================] - 1s 7ms/step - loss: 0.1531 - accuracy: 0.9567 - val_loss: 0.2604 - val_accuracy: 0.8768\n",
            "Epoch 392/500\n",
            "174/174 [==============================] - 1s 7ms/step - loss: 0.1528 - accuracy: 0.9549 - val_loss: 0.2603 - val_accuracy: 0.8768\n",
            "Epoch 393/500\n",
            "174/174 [==============================] - 1s 7ms/step - loss: 0.1544 - accuracy: 0.9549 - val_loss: 0.2602 - val_accuracy: 0.8752\n",
            "Epoch 394/500\n",
            "174/174 [==============================] - 1s 8ms/step - loss: 0.1538 - accuracy: 0.9549 - val_loss: 0.2601 - val_accuracy: 0.8752\n",
            "Epoch 395/500\n",
            "174/174 [==============================] - 1s 7ms/step - loss: 0.1527 - accuracy: 0.9584 - val_loss: 0.2600 - val_accuracy: 0.8752\n",
            "Epoch 396/500\n",
            "174/174 [==============================] - 1s 7ms/step - loss: 0.1521 - accuracy: 0.9605 - val_loss: 0.2599 - val_accuracy: 0.8752\n",
            "Epoch 397/500\n",
            "174/174 [==============================] - 1s 7ms/step - loss: 0.1529 - accuracy: 0.9557 - val_loss: 0.2598 - val_accuracy: 0.8752\n",
            "Epoch 398/500\n",
            "174/174 [==============================] - 1s 7ms/step - loss: 0.1515 - accuracy: 0.9567 - val_loss: 0.2598 - val_accuracy: 0.8736\n",
            "Epoch 399/500\n",
            "174/174 [==============================] - 1s 7ms/step - loss: 0.1502 - accuracy: 0.9564 - val_loss: 0.2597 - val_accuracy: 0.8736\n",
            "Epoch 400/500\n",
            "174/174 [==============================] - 1s 7ms/step - loss: 0.1525 - accuracy: 0.9571 - val_loss: 0.2596 - val_accuracy: 0.8736\n",
            "Epoch 401/500\n",
            "174/174 [==============================] - 1s 7ms/step - loss: 0.1495 - accuracy: 0.9558 - val_loss: 0.2595 - val_accuracy: 0.8736\n",
            "Epoch 402/500\n",
            "174/174 [==============================] - 1s 7ms/step - loss: 0.1504 - accuracy: 0.9589 - val_loss: 0.2595 - val_accuracy: 0.8736\n",
            "Epoch 403/500\n",
            "174/174 [==============================] - 1s 7ms/step - loss: 0.1483 - accuracy: 0.9578 - val_loss: 0.2594 - val_accuracy: 0.8736\n",
            "Epoch 404/500\n",
            "174/174 [==============================] - 1s 7ms/step - loss: 0.1475 - accuracy: 0.9607 - val_loss: 0.2593 - val_accuracy: 0.8736\n",
            "Epoch 405/500\n",
            "174/174 [==============================] - 1s 7ms/step - loss: 0.1485 - accuracy: 0.9564 - val_loss: 0.2592 - val_accuracy: 0.8736\n",
            "Epoch 406/500\n",
            "174/174 [==============================] - 1s 7ms/step - loss: 0.1488 - accuracy: 0.9555 - val_loss: 0.2592 - val_accuracy: 0.8736\n",
            "Epoch 407/500\n",
            "174/174 [==============================] - 1s 7ms/step - loss: 0.1491 - accuracy: 0.9585 - val_loss: 0.2591 - val_accuracy: 0.8736\n",
            "Epoch 408/500\n",
            "174/174 [==============================] - 1s 7ms/step - loss: 0.1467 - accuracy: 0.9587 - val_loss: 0.2590 - val_accuracy: 0.8736\n",
            "Epoch 409/500\n",
            "174/174 [==============================] - 1s 7ms/step - loss: 0.1459 - accuracy: 0.9596 - val_loss: 0.2590 - val_accuracy: 0.8736\n",
            "Epoch 410/500\n",
            "174/174 [==============================] - 1s 8ms/step - loss: 0.1476 - accuracy: 0.9564 - val_loss: 0.2589 - val_accuracy: 0.8736\n",
            "Epoch 411/500\n",
            "174/174 [==============================] - 1s 7ms/step - loss: 0.1460 - accuracy: 0.9596 - val_loss: 0.2588 - val_accuracy: 0.8736\n",
            "Epoch 412/500\n",
            "174/174 [==============================] - 1s 7ms/step - loss: 0.1468 - accuracy: 0.9603 - val_loss: 0.2588 - val_accuracy: 0.8736\n",
            "Epoch 413/500\n",
            "174/174 [==============================] - 1s 8ms/step - loss: 0.1449 - accuracy: 0.9600 - val_loss: 0.2587 - val_accuracy: 0.8736\n",
            "Epoch 414/500\n",
            "174/174 [==============================] - 1s 7ms/step - loss: 0.1452 - accuracy: 0.9578 - val_loss: 0.2587 - val_accuracy: 0.8736\n",
            "Epoch 415/500\n",
            "174/174 [==============================] - 1s 7ms/step - loss: 0.1454 - accuracy: 0.9587 - val_loss: 0.2586 - val_accuracy: 0.8736\n",
            "Epoch 416/500\n",
            "174/174 [==============================] - 1s 7ms/step - loss: 0.1423 - accuracy: 0.9616 - val_loss: 0.2586 - val_accuracy: 0.8736\n",
            "Epoch 417/500\n",
            "174/174 [==============================] - 1s 7ms/step - loss: 0.1435 - accuracy: 0.9605 - val_loss: 0.2585 - val_accuracy: 0.8736\n",
            "Epoch 418/500\n",
            "174/174 [==============================] - 1s 7ms/step - loss: 0.1435 - accuracy: 0.9585 - val_loss: 0.2585 - val_accuracy: 0.8720\n",
            "Epoch 419/500\n",
            "174/174 [==============================] - 1s 7ms/step - loss: 0.1416 - accuracy: 0.9641 - val_loss: 0.2584 - val_accuracy: 0.8736\n",
            "Epoch 420/500\n",
            "174/174 [==============================] - 1s 7ms/step - loss: 0.1422 - accuracy: 0.9607 - val_loss: 0.2584 - val_accuracy: 0.8736\n",
            "Epoch 421/500\n",
            "174/174 [==============================] - 1s 8ms/step - loss: 0.1410 - accuracy: 0.9625 - val_loss: 0.2583 - val_accuracy: 0.8736\n",
            "Epoch 422/500\n",
            "174/174 [==============================] - 1s 7ms/step - loss: 0.1411 - accuracy: 0.9607 - val_loss: 0.2582 - val_accuracy: 0.8752\n",
            "Epoch 423/500\n",
            "174/174 [==============================] - 1s 7ms/step - loss: 0.1409 - accuracy: 0.9609 - val_loss: 0.2582 - val_accuracy: 0.8736\n",
            "Epoch 424/500\n",
            "174/174 [==============================] - 1s 7ms/step - loss: 0.1423 - accuracy: 0.9616 - val_loss: 0.2581 - val_accuracy: 0.8736\n",
            "Epoch 425/500\n",
            "174/174 [==============================] - 1s 7ms/step - loss: 0.1393 - accuracy: 0.9611 - val_loss: 0.2581 - val_accuracy: 0.8736\n",
            "Epoch 426/500\n",
            "174/174 [==============================] - 1s 7ms/step - loss: 0.1411 - accuracy: 0.9600 - val_loss: 0.2581 - val_accuracy: 0.8736\n",
            "Epoch 427/500\n",
            "174/174 [==============================] - 1s 7ms/step - loss: 0.1394 - accuracy: 0.9603 - val_loss: 0.2580 - val_accuracy: 0.8736\n",
            "Epoch 428/500\n",
            "174/174 [==============================] - 1s 7ms/step - loss: 0.1376 - accuracy: 0.9618 - val_loss: 0.2580 - val_accuracy: 0.8736\n",
            "Epoch 429/500\n",
            "174/174 [==============================] - 1s 7ms/step - loss: 0.1388 - accuracy: 0.9629 - val_loss: 0.2579 - val_accuracy: 0.8736\n",
            "Epoch 430/500\n",
            "174/174 [==============================] - 1s 7ms/step - loss: 0.1382 - accuracy: 0.9645 - val_loss: 0.2579 - val_accuracy: 0.8736\n",
            "Epoch 431/500\n",
            "174/174 [==============================] - 1s 7ms/step - loss: 0.1373 - accuracy: 0.9618 - val_loss: 0.2578 - val_accuracy: 0.8736\n",
            "Epoch 432/500\n",
            "174/174 [==============================] - 1s 7ms/step - loss: 0.1386 - accuracy: 0.9627 - val_loss: 0.2578 - val_accuracy: 0.8736\n",
            "Epoch 433/500\n",
            "174/174 [==============================] - 1s 7ms/step - loss: 0.1360 - accuracy: 0.9648 - val_loss: 0.2578 - val_accuracy: 0.8736\n",
            "Epoch 434/500\n",
            "174/174 [==============================] - 1s 7ms/step - loss: 0.1365 - accuracy: 0.9618 - val_loss: 0.2577 - val_accuracy: 0.8736\n",
            "Epoch 435/500\n",
            "174/174 [==============================] - 1s 7ms/step - loss: 0.1359 - accuracy: 0.9638 - val_loss: 0.2577 - val_accuracy: 0.8736\n",
            "Epoch 436/500\n",
            "174/174 [==============================] - 1s 7ms/step - loss: 0.1366 - accuracy: 0.9641 - val_loss: 0.2577 - val_accuracy: 0.8752\n",
            "Epoch 437/500\n",
            "174/174 [==============================] - 1s 8ms/step - loss: 0.1351 - accuracy: 0.9630 - val_loss: 0.2576 - val_accuracy: 0.8736\n",
            "Epoch 438/500\n",
            "174/174 [==============================] - 1s 7ms/step - loss: 0.1350 - accuracy: 0.9647 - val_loss: 0.2576 - val_accuracy: 0.8736\n",
            "Epoch 439/500\n",
            "174/174 [==============================] - 1s 7ms/step - loss: 0.1334 - accuracy: 0.9650 - val_loss: 0.2576 - val_accuracy: 0.8736\n",
            "Epoch 440/500\n",
            "174/174 [==============================] - 1s 7ms/step - loss: 0.1346 - accuracy: 0.9639 - val_loss: 0.2575 - val_accuracy: 0.8736\n",
            "Epoch 441/500\n",
            "174/174 [==============================] - 1s 8ms/step - loss: 0.1340 - accuracy: 0.9632 - val_loss: 0.2575 - val_accuracy: 0.8752\n",
            "Epoch 442/500\n",
            "174/174 [==============================] - 1s 7ms/step - loss: 0.1352 - accuracy: 0.9641 - val_loss: 0.2575 - val_accuracy: 0.8736\n",
            "Epoch 443/500\n",
            "174/174 [==============================] - 1s 7ms/step - loss: 0.1329 - accuracy: 0.9620 - val_loss: 0.2575 - val_accuracy: 0.8752\n",
            "Epoch 444/500\n",
            "174/174 [==============================] - 1s 7ms/step - loss: 0.1336 - accuracy: 0.9647 - val_loss: 0.2575 - val_accuracy: 0.8752\n",
            "Epoch 445/500\n",
            "174/174 [==============================] - 1s 7ms/step - loss: 0.1325 - accuracy: 0.9643 - val_loss: 0.2575 - val_accuracy: 0.8752\n",
            "Epoch 446/500\n",
            "174/174 [==============================] - 1s 7ms/step - loss: 0.1340 - accuracy: 0.9627 - val_loss: 0.2575 - val_accuracy: 0.8752\n",
            "Epoch 447/500\n",
            "174/174 [==============================] - 1s 7ms/step - loss: 0.1328 - accuracy: 0.9654 - val_loss: 0.2574 - val_accuracy: 0.8768\n",
            "Epoch 448/500\n",
            "174/174 [==============================] - 1s 7ms/step - loss: 0.1311 - accuracy: 0.9677 - val_loss: 0.2574 - val_accuracy: 0.8768\n",
            "Epoch 449/500\n",
            "174/174 [==============================] - 1s 8ms/step - loss: 0.1321 - accuracy: 0.9663 - val_loss: 0.2574 - val_accuracy: 0.8768\n",
            "Epoch 450/500\n",
            "174/174 [==============================] - 1s 8ms/step - loss: 0.1310 - accuracy: 0.9652 - val_loss: 0.2574 - val_accuracy: 0.8768\n",
            "Epoch 451/500\n",
            "174/174 [==============================] - 1s 8ms/step - loss: 0.1303 - accuracy: 0.9639 - val_loss: 0.2573 - val_accuracy: 0.8768\n",
            "Epoch 452/500\n",
            "174/174 [==============================] - 1s 8ms/step - loss: 0.1291 - accuracy: 0.9681 - val_loss: 0.2573 - val_accuracy: 0.8784\n",
            "Epoch 453/500\n",
            "174/174 [==============================] - 1s 8ms/step - loss: 0.1297 - accuracy: 0.9674 - val_loss: 0.2573 - val_accuracy: 0.8768\n",
            "Epoch 454/500\n",
            "174/174 [==============================] - 1s 8ms/step - loss: 0.1304 - accuracy: 0.9645 - val_loss: 0.2573 - val_accuracy: 0.8784\n",
            "Epoch 455/500\n",
            "174/174 [==============================] - 1s 7ms/step - loss: 0.1299 - accuracy: 0.9650 - val_loss: 0.2573 - val_accuracy: 0.8784\n",
            "Epoch 456/500\n",
            "174/174 [==============================] - 1s 8ms/step - loss: 0.1291 - accuracy: 0.9639 - val_loss: 0.2573 - val_accuracy: 0.8784\n",
            "Epoch 457/500\n",
            "174/174 [==============================] - 1s 8ms/step - loss: 0.1290 - accuracy: 0.9652 - val_loss: 0.2573 - val_accuracy: 0.8784\n",
            "Epoch 458/500\n",
            "174/174 [==============================] - 1s 8ms/step - loss: 0.1278 - accuracy: 0.9665 - val_loss: 0.2573 - val_accuracy: 0.8784\n",
            "Epoch 459/500\n",
            "174/174 [==============================] - 1s 8ms/step - loss: 0.1283 - accuracy: 0.9666 - val_loss: 0.2573 - val_accuracy: 0.8768\n",
            "Epoch 460/500\n",
            "174/174 [==============================] - 1s 8ms/step - loss: 0.1271 - accuracy: 0.9661 - val_loss: 0.2573 - val_accuracy: 0.8784\n",
            "Epoch 461/500\n",
            "174/174 [==============================] - 1s 8ms/step - loss: 0.1273 - accuracy: 0.9670 - val_loss: 0.2572 - val_accuracy: 0.8752\n",
            "Epoch 462/500\n",
            "174/174 [==============================] - 1s 8ms/step - loss: 0.1269 - accuracy: 0.9674 - val_loss: 0.2573 - val_accuracy: 0.8752\n",
            "Epoch 463/500\n",
            "174/174 [==============================] - 1s 8ms/step - loss: 0.1257 - accuracy: 0.9665 - val_loss: 0.2573 - val_accuracy: 0.8768\n",
            "Epoch 464/500\n",
            "174/174 [==============================] - 1s 8ms/step - loss: 0.1259 - accuracy: 0.9676 - val_loss: 0.2573 - val_accuracy: 0.8768\n",
            "Epoch 465/500\n",
            "174/174 [==============================] - 1s 8ms/step - loss: 0.1273 - accuracy: 0.9665 - val_loss: 0.2573 - val_accuracy: 0.8768\n",
            "Epoch 466/500\n",
            "174/174 [==============================] - 1s 8ms/step - loss: 0.1239 - accuracy: 0.9683 - val_loss: 0.2573 - val_accuracy: 0.8768\n",
            "Epoch 467/500\n",
            "174/174 [==============================] - 1s 8ms/step - loss: 0.1248 - accuracy: 0.9676 - val_loss: 0.2573 - val_accuracy: 0.8768\n",
            "Epoch 468/500\n",
            "174/174 [==============================] - 1s 8ms/step - loss: 0.1243 - accuracy: 0.9679 - val_loss: 0.2573 - val_accuracy: 0.8768\n",
            "Epoch 469/500\n",
            "174/174 [==============================] - 1s 8ms/step - loss: 0.1246 - accuracy: 0.9672 - val_loss: 0.2573 - val_accuracy: 0.8768\n",
            "Epoch 470/500\n",
            "174/174 [==============================] - 1s 8ms/step - loss: 0.1240 - accuracy: 0.9674 - val_loss: 0.2573 - val_accuracy: 0.8768\n",
            "Epoch 471/500\n",
            "174/174 [==============================] - 1s 8ms/step - loss: 0.1235 - accuracy: 0.9686 - val_loss: 0.2574 - val_accuracy: 0.8768\n"
          ]
        }
      ]
    },
    {
      "cell_type": "markdown",
      "metadata": {
        "id": "ToKNfc36Y0MR"
      },
      "source": [
        "Evaluate the Model"
      ]
    },
    {
      "cell_type": "code",
      "metadata": {
        "colab": {
          "base_uri": "https://localhost:8080/"
        },
        "id": "UruSiFKNY2Ud",
        "outputId": "bf179f54-2ee5-4601-c120-3b2d735ec71b"
      },
      "source": [
        "best_score = max(history_singleLayer_withDropout.history['val_accuracy'])\n",
        "\n",
        "print(best_score)"
      ],
      "execution_count": null,
      "outputs": [
        {
          "output_type": "stream",
          "name": "stdout",
          "text": [
            "0.8816855549812317\n"
          ]
        }
      ]
    },
    {
      "cell_type": "code",
      "metadata": {
        "colab": {
          "base_uri": "https://localhost:8080/",
          "height": 573
        },
        "id": "A5bJtqAyY3EF",
        "outputId": "f5159078-3a22-4c2e-86a7-4c0da2ab3d8c"
      },
      "source": [
        "\n",
        "#Plot the learning curve\n",
        "import matplotlib.pyplot as plt\n",
        "# summarize history for accuracy\n",
        "plt.plot(history_singleLayer_withDropout.history['accuracy'])\n",
        "plt.plot(history_singleLayer_withDropout.history['val_accuracy'])\n",
        "plt.title('Single Layer with Dropout model Accuracy')\n",
        "plt.ylabel('Accuracy')\n",
        "plt.xlabel('epoch')\n",
        "plt.legend(['train', 'test'], loc='upper left')\n",
        "plt.show()\n",
        "# summarize history for loss\n",
        "plt.plot(history_singleLayer_withDropout.history['loss'])\n",
        "plt.plot(history_singleLayer_withDropout.history['val_loss'])\n",
        "plt.title('Single Layer with Dropout model loss')\n",
        "plt.ylabel('loss')\n",
        "plt.xlabel('epoch')\n",
        "plt.legend(['train', 'test'], loc='upper left')\n",
        "plt.show()"
      ],
      "execution_count": null,
      "outputs": [
        {
          "output_type": "display_data",
          "data": {
            "image/png": "[encoded data removed]",
            "text/plain": [
              "<Figure size 432x288 with 1 Axes>"
            ]
          },
          "metadata": {
            "needs_background": "light"
          }
        },
        {
          "output_type": "display_data",
          "data": {
            "image/png": "[encoded data removed]",
            "text/plain": [
              "<Figure size 432x288 with 1 Axes>"
            ]
          },
          "metadata": {
            "needs_background": "light"
          }
        }
      ]
    },
    {
      "cell_type": "markdown",
      "metadata": {
        "id": "vvanYY2DbwjG"
      },
      "source": [
        "*Using a multi hidden layer Deep Learning network with dropout we are already getting 0.88 accuracy which is greater than all the ML models. However we can look at the graph above and see that our model is still overfitting. One of the major reason for this is the amount of data.*"
      ]
    }
  ]
}